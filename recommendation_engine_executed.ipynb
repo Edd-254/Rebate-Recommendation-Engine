{
 "cells": [
  {
   "cell_type": "markdown",
   "id": "d6382897",
   "metadata": {},
   "source": [
    "# Rebate Recommendation Engine: Data Integration & Cleaning"
   ]
  },
  {
   "cell_type": "code",
   "execution_count": 1,
   "id": "72305759",
   "metadata": {
    "execution": {
     "iopub.execute_input": "2025-07-29T02:39:17.797855Z",
     "iopub.status.busy": "2025-07-29T02:39:17.797715Z",
     "iopub.status.idle": "2025-07-29T02:39:19.584892Z",
     "shell.execute_reply": "2025-07-29T02:39:19.584549Z"
    }
   },
   "outputs": [
    {
     "name": "stdout",
     "output_type": "stream",
     "text": [
      "All required libraries imported successfully.\n"
     ]
    }
   ],
   "source": [
    "\n",
    "# --- Core Libraries ---\n",
    "import pandas as pd\n",
    "import numpy as np\n",
    "from datetime import datetime\n",
    "\n",
    "# --- Data Visualization ---\n",
    "import matplotlib.pyplot as plt\n",
    "import seaborn as sns\n",
    "\n",
    "# --- Fuzzy Matching ---\n",
    "from thefuzz import process, fuzz\n",
    "\n",
    "# --- Recommendation Model Libraries ---\n",
    "from surprise import Dataset, Reader, SVD\n",
    "from surprise.model_selection import train_test_split\n",
    "from sklearn.decomposition import PCA\n",
    "from scipy.spatial.distance import pdist, squareform\n",
    "\n",
    "# --- Geocoding and Deployment Libraries ---\n",
    "from geopy.geocoders import Nominatim\n",
    "import time\n",
    "import pickle\n",
    "import os\n",
    "from collections import Counter\n",
    "\n",
    "# --- Set Global Styles ---\n",
    "plt.style.use('seaborn-v0_8-whitegrid')\n",
    "\n",
    "print(\"All required libraries imported successfully.\")"
   ]
  },
  {
   "cell_type": "markdown",
   "id": "f447332d",
   "metadata": {},
   "source": [
    "## Phase 1.1: Initial Data Preparation (Landscape)\n",
    "This section loads the core **Application List** and **Appliance Hardware** datasets, cleans them, and merges them into `cleaned_master_data.csv`."
   ]
  },
  {
   "cell_type": "code",
   "execution_count": 2,
   "id": "fdfda03b",
   "metadata": {
    "execution": {
     "iopub.execute_input": "2025-07-29T02:39:19.586772Z",
     "iopub.status.busy": "2025-07-29T02:39:19.586552Z",
     "iopub.status.idle": "2025-07-29T02:39:20.037596Z",
     "shell.execute_reply": "2025-07-29T02:39:20.037260Z"
    }
   },
   "outputs": [
    {
     "name": "stdout",
     "output_type": "stream",
     "text": [
      "\n",
      "--- Starting Data Preparation ---\n",
      "This pipeline now includes both Application List.csv and Current Landscape Rebates.csv\n",
      "Special handling: 2025 customers are retained even with blank RebateType\n",
      "\n",
      "Error loading Application List.csv: The 'low_memory' option is not supported with the 'python' engine\n",
      "Failed to load Application List.csv with both encodings: read_csv() got an unexpected keyword argument 'error_bad_lines'\n",
      "Loaded Application List with 20000 initial rows (using fallback parsing).\n"
     ]
    },
    {
     "name": "stdout",
     "output_type": "stream",
     "text": [
      "Loaded Current Landscape Rebates with 49 rows.\n",
      "Found 25 common columns between datasets.\n",
      "Combined dataset now has 20049 total rows.\n"
     ]
    },
    {
     "name": "stdout",
     "output_type": "stream",
     "text": [
      "Parsed 20049 valid Request Dates out of 20049 rows.\n",
      "Historical data: 15529 rows (strict status filter)\n",
      "2025+ data: 47 rows (expanded status filter)\n",
      "After initial cleaning, 15574 rows remain.\n"
     ]
    },
    {
     "name": "stdout",
     "output_type": "stream",
     "text": [
      "Removed 385 rows with missing RebateType (preserved 2025 data).\n",
      "2025 customers retained: 45 (including those with blank RebateType)\n",
      "2025 date range: 2025-06-12 00:00:00 to 2025-06-25 00:00:00\n",
      "2025 customers with blank RebateType: 27\n",
      "Removed 0 duplicate rebate number entries.\n",
      "Final dataset has 15189 unique rebate applications.\n",
      "Final dataset includes 45 applications from 2025 or later.\n",
      "Cleaned and deduplicated data saved to 'cleaned_master_data.csv'.\n"
     ]
    }
   ],
   "source": [
    "print(\"\\n--- Starting Data Preparation ---\")\n",
    "print(\"This pipeline now includes both Application List.csv and Current Landscape Rebates.csv\")\n",
    "print(\"Special handling: 2025 customers are retained even with blank RebateType\\n\")\n",
    "\n",
    "# Load Data - Application List and Current Landscape Rebates\n",
    "try:\n",
    "    df_app = pd.read_csv('Application List.csv', low_memory=False, on_bad_lines='skip', encoding='utf-8', quoting=1, engine='python')\n",
    "    print(f\"Loaded Application List with {len(df_app)} initial rows.\")\n",
    "except Exception as e:\n",
    "    print(f\"Error loading Application List.csv: {e}\")\n",
    "    try:\n",
    "        # Try with different encoding and more aggressive error handling\n",
    "        df_app = pd.read_csv('Application List.csv', low_memory=False, on_bad_lines='skip', encoding='latin-1', quoting=1, engine='python', error_bad_lines=False)\n",
    "        print(f\"Loaded Application List with {len(df_app)} initial rows (using latin-1 encoding).\")\n",
    "    except Exception as e2:\n",
    "        print(f\"Failed to load Application List.csv with both encodings: {e2}\")\n",
    "        try:\n",
    "            # Final fallback with minimal parsing\n",
    "            df_app = pd.read_csv('Application List.csv', on_bad_lines='skip', encoding='utf-8', sep=',', quotechar='\"', engine='python', skipinitialspace=True)\n",
    "            print(f\"Loaded Application List with {len(df_app)} initial rows (using fallback parsing).\")\n",
    "        except Exception as e3:\n",
    "            print(f\"All CSV parsing attempts failed: {e3}\")\n",
    "            raise e3\n",
    "\n",
    "# Load Current Landscape Rebates (2025 data) if available\n",
    "try:\n",
    "    df_current = pd.read_csv('Current Landscape Rebates.csv', on_bad_lines='skip', encoding='utf-8', quoting=1, engine='python')\n",
    "    print(f\"Loaded Current Landscape Rebates with {len(df_current)} rows.\")\n",
    "    \n",
    "    # Ensure both dataframes have the same columns for concatenation\n",
    "    # Get common columns between both datasets\n",
    "    common_columns = list(set(df_app.columns).intersection(set(df_current.columns)))\n",
    "    print(f\"Found {len(common_columns)} common columns between datasets.\")\n",
    "    \n",
    "    # Combine the datasets\n",
    "    df_app_subset = df_app[common_columns]\n",
    "    df_current_subset = df_current[common_columns]\n",
    "    df_app = pd.concat([df_app_subset, df_current_subset], ignore_index=True)\n",
    "    \n",
    "    print(f\"Combined dataset now has {len(df_app)} total rows.\")\n",
    "    \n",
    "except FileNotFoundError:\n",
    "    print(\"Current Landscape Rebates.csv not found - using only Application List.csv\")\n",
    "except Exception as e:\n",
    "    print(f\"Warning: Could not load Current Landscape Rebates.csv: {e}\")\n",
    "    print(\"Proceeding with only Application List.csv\")\n",
    "\n",
    "# Clean Application List - Apply different status filters by year\n",
    "VALID_STATUSES_HISTORICAL = ['Appl. Received Complete', 'Check Issued', 'Past Rebate', 'Ready to be Paid']\n",
    "VALID_STATUSES_2025 = ['Appl. Received Complete', 'Check Issued', 'Past Rebate', 'Ready to be Paid', \n",
    "                       'Notice to Proceed Sent', 'Post Insp. Approved']\n",
    "\n",
    "# Convert Request Date early for year-based filtering\n",
    "# Robustly handle multiple date formats (MM/DD/YYYY, YYYY-MM-DD, etc.)\n",
    "from datetime import datetime\n",
    "\n",
    "def robust_parse_date(date_str):\n",
    "    for fmt in (\"%Y-%m-%d\", \"%m/%d/%Y\", \"%Y/%m/%d\", \"%d-%b-%Y\"):\n",
    "        try:\n",
    "            return datetime.strptime(str(date_str), fmt)\n",
    "        except (ValueError, TypeError):\n",
    "            continue\n",
    "    try:\n",
    "        # Try pandas' parser as fallback, but only on the single string\n",
    "        return pd.to_datetime(str(date_str), errors='coerce')\n",
    "    except Exception:\n",
    "        return pd.NaT\n",
    "\n",
    "parsed_dates = df_app['Request Date'].apply(robust_parse_date)\n",
    "df_app['Request Date'] = parsed_dates\n",
    "df_app.dropna(subset=['Request Date'], inplace=True)\n",
    "print(f\"Parsed {len(df_app)} valid Request Dates out of {len(parsed_dates)} rows.\")\n",
    "\n",
    "# Separate data by year for different status filtering\n",
    "df_app['Request Year'] = df_app['Request Date'].dt.year\n",
    "df_2025_plus = df_app[df_app['Request Year'] >= 2025].copy()\n",
    "df_historical = df_app[df_app['Request Year'] < 2025].copy()\n",
    "\n",
    "# Apply appropriate status filters\n",
    "df_2025_cleaned = df_2025_plus[df_2025_plus['Rebate Status'].isin(VALID_STATUSES_2025)].copy()\n",
    "df_historical_cleaned = df_historical[df_historical['Rebate Status'].isin(VALID_STATUSES_HISTORICAL)].copy()\n",
    "\n",
    "# Combine back together\n",
    "df_cleaned = pd.concat([df_historical_cleaned, df_2025_cleaned], ignore_index=True)\n",
    "df_cleaned.drop('Request Year', axis=1, inplace=True)\n",
    "\n",
    "print(f\"Historical data: {len(df_historical_cleaned)} rows (strict status filter)\")\n",
    "print(f\"2025+ data: {len(df_2025_cleaned)} rows (expanded status filter)\")\n",
    "# Request Date already converted and cleaned above\n",
    "# Allow future dates for 2025 data (some may have future dates due to data entry)\n",
    "# but filter out obviously erroneous future dates (beyond current year + 1)\n",
    "current_year = datetime.now().year\n",
    "max_allowed_date = datetime(current_year + 1, 12, 31)\n",
    "df_cleaned = df_cleaned[df_cleaned['Request Date'] <= max_allowed_date]\n",
    "df_cleaned['Site Zip Code'] = df_cleaned['Site Zip Code'].astype(str).str.split('.').str[0].str.zfill(5)\n",
    "df_cleaned['City'] = df_cleaned['City'].str.strip().str.title()\n",
    "print(f\"After initial cleaning, {len(df_cleaned)} rows remain.\")\n",
    "\n",
    "# ---Remove rows with missing RebateType (except for 2025 data) ---\n",
    "initial_rows_nan = len(df_cleaned)\n",
    "\n",
    "# For 2025 data, keep all customers even if RebateType is blank\n",
    "# For older years, remove rows with missing RebateType as before\n",
    "df_cleaned['Request Year'] = df_cleaned['Request Date'].dt.year\n",
    "\n",
    "# Separate 2025 data from older data\n",
    "df_2025 = df_cleaned[df_cleaned['Request Year'] >= 2025].copy()\n",
    "df_older = df_cleaned[df_cleaned['Request Year'] < 2025].copy()\n",
    "\n",
    "# Apply RebateType filter only to older data\n",
    "df_older.dropna(subset=['RebateType'], inplace=True)\n",
    "\n",
    "# Combine back together\n",
    "df_cleaned = pd.concat([df_older, df_2025], ignore_index=True)\n",
    "\n",
    "# Drop the temporary year column\n",
    "df_cleaned.drop('Request Year', axis=1, inplace=True)\n",
    "\n",
    "final_rows_nan = len(df_cleaned)\n",
    "print(f\"Removed {initial_rows_nan - final_rows_nan} rows with missing RebateType (preserved 2025 data).\")\n",
    "print(f\"2025 customers retained: {len(df_2025)} (including those with blank RebateType)\")\n",
    "if len(df_2025) > 0:\n",
    "    print(f\"2025 date range: {df_2025['Request Date'].min()} to {df_2025['Request Date'].max()}\")\n",
    "    blank_rebate_2025 = df_2025['RebateType'].isna().sum()\n",
    "    print(f\"2025 customers with blank RebateType: {blank_rebate_2025}\")\n",
    "\n",
    "# ---Deduplicate by Rebate Number ---\n",
    "# This ensures each rebate application is a single, unique record.\n",
    "initial_rows_dup = len(df_cleaned)\n",
    "df_cleaned.drop_duplicates(subset=['Rebate Number'], keep='first', inplace=True)\n",
    "final_rows_dup = len(df_cleaned)\n",
    "print(f\"Removed {initial_rows_dup - final_rows_dup} duplicate rebate number entries.\")\n",
    "print(f\"Final dataset has {final_rows_dup} unique rebate applications.\")\n",
    "\n",
    "# Check 2025 data inclusion\n",
    "final_2025_count = len(df_cleaned[df_cleaned['Request Date'].dt.year >= 2025])\n",
    "print(f\"Final dataset includes {final_2025_count} applications from 2025 or later.\")\n",
    "\n",
    "# Save Cleaned Data\n",
    "# We select only the columns that exist in the dataframe to avoid errors.\n",
    "final_columns = ['APN', 'Rebate Number', 'Site ID', 'Customer Name', 'Email Address', 'Site Type', 'City', 'Site Zip Code', 'Request Date', 'Rebate Status', 'RebateType']\n",
    "final_columns_exist = [col for col in final_columns if col in df_cleaned.columns]\n",
    "master_df_final = df_cleaned[final_columns_exist]\n",
    "\n",
    "output_path = 'cleaned_master_data.csv'\n",
    "master_df_final.to_csv(output_path, index=False)\n",
    "print(f\"Cleaned and deduplicated data saved to '{output_path}'.\")"
   ]
  },
  {
   "cell_type": "markdown",
   "id": "af2bdec4",
   "metadata": {},
   "source": [
    "## Phase 1.2: Include All Graywater Customers\n",
    "This critical step ensures that ALL graywater rebate participants are included in the master dataset, not just those who also participated in landscape rebates. This prevents the exclusion of graywater-only customers from the recommendation engine and analytics."
   ]
  },
  {
   "cell_type": "code",
   "execution_count": 3,
   "id": "5f9bbff0",
   "metadata": {
    "execution": {
     "iopub.execute_input": "2025-07-29T02:39:20.039284Z",
     "iopub.status.busy": "2025-07-29T02:39:20.039120Z",
     "iopub.status.idle": "2025-07-29T02:39:20.125521Z",
     "shell.execute_reply": "2025-07-29T02:39:20.125201Z"
    }
   },
   "outputs": [
    {
     "name": "stdout",
     "output_type": "stream",
     "text": [
      "\n",
      "--- Including All Graywater Customers ---\n",
      "This step ensures graywater-only customers are included in the master dataset.\n",
      "Error loading Graywater Rebate.csv: The 'low_memory' option is not supported with the 'python' engine\n",
      "Failed to load Graywater Rebate.csv with both encodings: read_csv() got an unexpected keyword argument 'error_bad_lines'\n",
      "Loaded 174 graywater customers (using fallback parsing).\n",
      "Current master data has 15189 records.\n",
      "Found 174 graywater-only customers to add.\n",
      "Added 174 graywater-only customers to master data.\n",
      "Enhanced master data now has 15363 total records.\n",
      "Graywater-only customers will have 'RebateType' = 'G' and populated email addresses.\n"
     ]
    }
   ],
   "source": [
    "print(\"\\n--- Including All Graywater Customers ---\")\n",
    "print(\"This step ensures graywater-only customers are included in the master dataset.\")\n",
    "\n",
    "# Load graywater data\n",
    "try:\n",
    "    df_graywater = pd.read_csv('Graywater Rebate.csv', low_memory=False, on_bad_lines='skip', encoding='utf-8', quoting=1, engine='python')\n",
    "    print(f\"Loaded {len(df_graywater)} graywater customers.\")\n",
    "except Exception as e:\n",
    "    print(f\"Error loading Graywater Rebate.csv: {e}\")\n",
    "    try:\n",
    "        # Try with different encoding and more aggressive error handling\n",
    "        df_graywater = pd.read_csv('Graywater Rebate.csv', low_memory=False, on_bad_lines='skip', encoding='latin-1', quoting=1, engine='python', error_bad_lines=False)\n",
    "        print(f\"Loaded {len(df_graywater)} graywater customers (using latin-1 encoding).\")\n",
    "    except Exception as e2:\n",
    "        print(f\"Failed to load Graywater Rebate.csv with both encodings: {e2}\")\n",
    "        try:\n",
    "            # Final fallback with minimal parsing\n",
    "            df_graywater = pd.read_csv('Graywater Rebate.csv', on_bad_lines='skip', encoding='utf-8', sep=',', quotechar='\"', engine='python', skipinitialspace=True)\n",
    "            print(f\"Loaded {len(df_graywater)} graywater customers (using fallback parsing).\")\n",
    "        except Exception as e3:\n",
    "            print(f\"All graywater CSV parsing attempts failed: {e3}\")\n",
    "            df_graywater = pd.DataFrame()  # Empty dataframe if file not found\n",
    "\n",
    "if not df_graywater.empty:\n",
    "    # Load current master data\n",
    "    df_master = pd.read_csv('cleaned_master_data.csv', low_memory=False)\n",
    "    print(f\"Current master data has {len(df_master)} records.\")\n",
    "    \n",
    "    # Create standardized match strings for comparison\n",
    "    def standardize_text(text):\n",
    "        return str(text).lower().strip() if pd.notna(text) else ''\n",
    "    \n",
    "    # Create match strings for existing master data\n",
    "    df_master['temp_match_string'] = df_master['Customer Name'].apply(standardize_text) + ' ' + df_master.get('Address/Site', df_master.get('City', '')).apply(standardize_text)\n",
    "    \n",
    "    # Create match strings for graywater data\n",
    "    df_graywater['temp_match_string'] = df_graywater['Customer Name'].apply(standardize_text) + ' ' + df_graywater['Installation Address'].apply(standardize_text)\n",
    "    \n",
    "    # Find graywater customers NOT already in master data\n",
    "    existing_matches = set(df_master['temp_match_string'].tolist())\n",
    "    graywater_only = df_graywater[~df_graywater['temp_match_string'].isin(existing_matches)].copy()\n",
    "    \n",
    "    print(f\"Found {len(graywater_only)} graywater-only customers to add.\")\n",
    "    \n",
    "    if len(graywater_only) > 0:\n",
    "        # Create new records for graywater-only customers\n",
    "        new_records = []\n",
    "        \n",
    "        for _, gw_customer in graywater_only.iterrows():\n",
    "            # Generate a unique rebate number for graywater-only customers\n",
    "            # Use LRP Rebate Number if available, otherwise generate one\n",
    "            rebate_number = gw_customer.get('LRP Rebate Number', f\"GW_{gw_customer.get('Rebate Number', 'UNKNOWN')}\")\n",
    "            \n",
    "            # Create new record with available graywater data\n",
    "            # Fix Site ID assignment: use Rebate Number if Site ID is missing/blank\n",
    "            site_id = gw_customer.get('Site ID', '')\n",
    "            if not site_id or pd.isna(site_id) or str(site_id).strip() == '':\n",
    "                site_id = str(gw_customer.get('Rebate Number', ''))\n",
    "            \n",
    "            new_record = {\n",
    "                'Rebate Number': rebate_number,\n",
    "                'Site ID': site_id,  # Now guaranteed to be non-blank\n",
    "                'Customer Name': gw_customer.get('Customer Name', ''),\n",
    "                'Site Type': gw_customer.get('Site Type', ''),\n",
    "                'City': gw_customer.get('City', ''),\n",
    "                'Site Zip Code': str(gw_customer.get('Zip Code', '')).split('.')[0] if pd.notna(gw_customer.get('Zip Code')) else '',\n",
    "                'Request Date': gw_customer.get('Application Date', ''),\n",
    "                'Rebate Status': gw_customer.get('Status', 'Graywater Program'),\n",
    "                'RebateType': 'G',  # G for Graywater\n",
    "                'Email Address': gw_customer.get('Email', ''),  # This is the key benefit!\n",
    "            }\n",
    "            \n",
    "            # Add any other columns that exist in master data with empty values\n",
    "            for col in df_master.columns:\n",
    "                if col not in new_record and col != 'temp_match_string':\n",
    "                    new_record[col] = ''\n",
    "            \n",
    "            new_records.append(new_record)\n",
    "        \n",
    "        # Convert to DataFrame and append to master data\n",
    "        df_new_graywater = pd.DataFrame(new_records)\n",
    "        \n",
    "        # Remove temporary match string columns\n",
    "        df_master.drop('temp_match_string', axis=1, inplace=True)\n",
    "        \n",
    "        # Ensure column alignment\n",
    "        for col in df_master.columns:\n",
    "            if col not in df_new_graywater.columns:\n",
    "                df_new_graywater[col] = ''\n",
    "        \n",
    "        # Reorder columns to match master data\n",
    "        df_new_graywater = df_new_graywater[df_master.columns]\n",
    "        \n",
    "        # Append graywater-only customers to master data\n",
    "        df_master_enhanced = pd.concat([df_master, df_new_graywater], ignore_index=True)\n",
    "        \n",
    "        # Save enhanced master data\n",
    "        df_master_enhanced.to_csv('cleaned_master_data.csv', index=False)\n",
    "        \n",
    "        print(f\"Added {len(new_records)} graywater-only customers to master data.\")\n",
    "        print(f\"Enhanced master data now has {len(df_master_enhanced)} total records.\")\n",
    "        print(f\"Graywater-only customers will have 'RebateType' = 'G' and populated email addresses.\")\n",
    "    else:\n",
    "        print(\"No additional graywater-only customers found.\")\n",
    "else:\n",
    "    print(\"No graywater data available - skipping graywater inclusion.\")\n"
   ]
  },
  {
   "cell_type": "markdown",
   "id": "ba28606e",
   "metadata": {},
   "source": [
    "## Phase 1.3: Graywater Integration - Direct Match Attempt\n",
    "This section attempts to find overlap between the landscape and graywater datasets using direct identifier matching (`Rebate Number`, `LRP Rebate Number`)."
   ]
  },
  {
   "cell_type": "code",
   "execution_count": 4,
   "id": "9a658ee3",
   "metadata": {
    "execution": {
     "iopub.execute_input": "2025-07-29T02:39:20.127065Z",
     "iopub.status.busy": "2025-07-29T02:39:20.126968Z",
     "iopub.status.idle": "2025-07-29T02:39:20.153217Z",
     "shell.execute_reply": "2025-07-29T02:39:20.152906Z"
    }
   },
   "outputs": [
    {
     "name": "stdout",
     "output_type": "stream",
     "text": [
      "\n",
      "--- Graywater Rebate Overlap Investigation ---"
     ]
    },
    {
     "name": "stdout",
     "output_type": "stream",
     "text": [
      "\n",
      "Found 0 matches on 'Rebate Number'.\n",
      "Found 42 matches on 'LRP Rebate Number'.\n"
     ]
    }
   ],
   "source": [
    "print(\"\\n--- Graywater Rebate Overlap Investigation ---\")\n",
    "\n",
    "# Load datasets\n",
    "try:\n",
    "    df_master = pd.read_csv('cleaned_master_data.csv', low_memory=False)\n",
    "    df_graywater = pd.read_csv('Graywater Rebate.csv', low_memory=False)\n",
    "except Exception as e:\n",
    "    print(f\"Error loading data: {e}\")\n",
    "    raise e\n",
    "\n",
    "# Standardize keys\n",
    "master_rebate_numbers = set(df_master['Rebate Number'].astype(str).str.strip().dropna())\n",
    "graywater_rebate_numbers = set(df_graywater['Rebate Number'].astype(str).str.strip().dropna())\n",
    "graywater_lrp_rebate_numbers = set(df_graywater['LRP Rebate Number'].astype(str).str.strip().dropna())\n",
    "\n",
    "# Check for overlaps\n",
    "print(f\"Found {len(master_rebate_numbers.intersection(graywater_rebate_numbers))} matches on 'Rebate Number'.\")\n",
    "print(f\"Found {len(master_rebate_numbers.intersection(graywater_lrp_rebate_numbers))} matches on 'LRP Rebate Number'.\")"
   ]
  },
  {
   "cell_type": "markdown",
   "id": "490f197c",
   "metadata": {},
   "source": [
    "## Phase 1.3: Graywater Integration - Fuzzy Logic Matching\n",
    "This section uses a fuzzy matching algorithm on customer names and addresses to find high-confidence links between the two datasets. It concludes by creating a `set` of matched rebate numbers for use in the next step."
   ]
  },
  {
   "cell_type": "code",
   "execution_count": 5,
   "id": "4bf1e574",
   "metadata": {
    "execution": {
     "iopub.execute_input": "2025-07-29T02:39:20.154873Z",
     "iopub.status.busy": "2025-07-29T02:39:20.154767Z",
     "iopub.status.idle": "2025-07-29T02:39:27.251477Z",
     "shell.execute_reply": "2025-07-29T02:39:27.250846Z"
    }
   },
   "outputs": [
    {
     "name": "stdout",
     "output_type": "stream",
     "text": [
      "\n",
      "--- Fuzzy Matching Analysis ---\n"
     ]
    },
    {
     "name": "stdout",
     "output_type": "stream",
     "text": [
      "Found 42 high-confidence matches.\n",
      "Extracted 37 email addresses for matched customers.\n",
      "Extracted 43 unique rebate numbers for integration.\n"
     ]
    }
   ],
   "source": [
    "print(\"\\n--- Fuzzy Matching Analysis ---\")\n",
    "\n",
    "# Load raw datasets\n",
    "try:\n",
    "    df_landscape = pd.read_csv('Application List.csv', low_memory=False)\n",
    "    df_graywater = pd.read_csv('Graywater Rebate.csv', low_memory=False)\n",
    "except Exception as e:\n",
    "    print(f\"Error loading data: {e}\")\n",
    "    raise e\n",
    "\n",
    "def standardize_text(text):\n",
    "    return str(text).lower().strip() if pd.notna(text) else ''\n",
    "\n",
    "df_landscape['match_string'] = df_landscape['Customer Name'].apply(standardize_text) + ' ' + df_landscape['Address/Site'].apply(standardize_text)\n",
    "df_graywater['match_string'] = df_graywater['Customer Name'].apply(standardize_text) + ' ' + df_graywater['Installation Address'].apply(standardize_text)\n",
    "\n",
    "landscape_choices = df_landscape['match_string'].tolist()\n",
    "matches = []\n",
    "email_matches = {}  # Dictionary to store rebate_number -> email mapping\n",
    "match_threshold = 90\n",
    "\n",
    "for idx, record in enumerate(df_graywater['match_string']):\n",
    "    best_match = process.extractOne(record, landscape_choices, scorer=fuzz.token_sort_ratio)\n",
    "    if best_match and best_match[1] >= match_threshold:\n",
    "        matches.append(best_match[0])\n",
    "        # Get the graywater record for this match to extract email\n",
    "        graywater_record = df_graywater.iloc[idx]\n",
    "        graywater_email = graywater_record.get('Email', '')\n",
    "        \n",
    "        # Find the corresponding landscape record to get rebate number\n",
    "        landscape_match = df_landscape[df_landscape['match_string'] == best_match[0]]\n",
    "        if not landscape_match.empty:\n",
    "            rebate_number = str(landscape_match.iloc[0]['Rebate Number'])\n",
    "            if pd.notna(graywater_email) and graywater_email.strip():\n",
    "                email_matches[rebate_number] = graywater_email.strip()\n",
    "\n",
    "print(f\"Found {len(matches)} high-confidence matches.\")\n",
    "print(f\"Extracted {len(email_matches)} email addresses for matched customers.\")\n",
    "\n",
    "matched_rebate_numbers = set()\n",
    "if matches:\n",
    "    landscape_lookup = df_landscape[df_landscape['match_string'].isin(matches)]\n",
    "    matched_rebate_numbers = set(landscape_lookup['Rebate Number'].astype(str).dropna())\n",
    "    print(f\"Extracted {len(matched_rebate_numbers)} unique rebate numbers for integration.\")\n"
   ]
  },
  {
   "cell_type": "markdown",
   "id": "4b984d57",
   "metadata": {},
   "source": [
    "## Phase 1.4: Feature Engineering - Add Graywater Participation Flag\n",
    "This final data preparation step uses the set of matched rebate numbers from the previous cell to create a new boolean feature, `participated_in_graywater`, in the master dataset."
   ]
  },
  {
   "cell_type": "code",
   "execution_count": 6,
   "id": "dcab075b",
   "metadata": {
    "execution": {
     "iopub.execute_input": "2025-07-29T02:39:27.253267Z",
     "iopub.status.busy": "2025-07-29T02:39:27.253129Z",
     "iopub.status.idle": "2025-07-29T02:39:27.340937Z",
     "shell.execute_reply": "2025-07-29T02:39:27.340639Z"
    }
   },
   "outputs": [
    {
     "name": "stdout",
     "output_type": "stream",
     "text": [
      "\n",
      "--- Feature Engineering: Add Graywater Flag and Email Addresses ---\n",
      "Successfully added 0 email addresses from graywater matches.\n",
      "Successfully set 'participated_in_graywater' to True for 0 records.\n"
     ]
    }
   ],
   "source": [
    "print(\"\\n--- Feature Engineering: Add Graywater Flag and Email Addresses ---\")\n",
    "\n",
    "if 'matched_rebate_numbers' not in locals():\n",
    "    print(\"Error: 'matched_rebate_numbers' not found. Run fuzzy matching cell first.\")\n",
    "else:\n",
    "    df_master = pd.read_csv('cleaned_master_data.csv', low_memory=False)\n",
    "    df_master['Rebate Number'] = df_master['Rebate Number'].astype(str)\n",
    "    \n",
    "    # Add graywater participation flag\n",
    "    df_master['participated_in_graywater'] = df_master['Rebate Number'].isin(matched_rebate_numbers)\n",
    "    \n",
    "    # Add Email Address column and populate from graywater matches\n",
    "    df_master['Email Address'] = ''\n",
    "    if 'email_matches' in locals():\n",
    "        for rebate_num, email in email_matches.items():\n",
    "            mask = df_master['Rebate Number'] == rebate_num\n",
    "            df_master.loc[mask, 'Email Address'] = email\n",
    "        \n",
    "        emails_added = (df_master['Email Address'] != '').sum()\n",
    "        print(f\"Successfully added {emails_added} email addresses from graywater matches.\")\n",
    "    else:\n",
    "        print(\"Warning: 'email_matches' not found. Email addresses will be empty.\")\n",
    "    \n",
    "    df_master.to_csv('cleaned_master_data.csv', index=False)\n",
    "    print(f\"Successfully set 'participated_in_graywater' to True for {df_master['participated_in_graywater'].sum()} records.\")\n"
   ]
  },
  {
   "cell_type": "markdown",
   "id": "3cbb8db8",
   "metadata": {},
   "source": [
    "## Phase 1.5: Feature Engineering - Deconstruct RebateType\n",
    "Based on the insight that the `RebateType` column contains codes for multiple sub-rebates, this step creates five new boolean (True/False) columns. Each new column corresponds to a specific sub-rebate, allowing the model to analyze the impact of each program individually. This is the final step in data preparation."
   ]
  },
  {
   "cell_type": "code",
   "execution_count": 7,
   "id": "472e7e8b",
   "metadata": {
    "execution": {
     "iopub.execute_input": "2025-07-29T02:39:27.342548Z",
     "iopub.status.busy": "2025-07-29T02:39:27.342416Z",
     "iopub.status.idle": "2025-07-29T02:39:27.444307Z",
     "shell.execute_reply": "2025-07-29T02:39:27.443582Z"
    }
   },
   "outputs": [
    {
     "name": "stdout",
     "output_type": "stream",
     "text": [
      "\n",
      "--- Feature Engineering: Deconstructing RebateType ---\n",
      "Creating new boolean columns for each sub-rebate based on 'RebateType'...\n",
      "  - Created 'has_wbic_rebate' with 5742 participants.\n",
      "  - Created 'has_irrigation_upgrade_rebate' with 4780 participants.\n",
      "  - Created 'has_landscape_conversion_rebate' with 10390 participants.\n",
      "  - Created 'has_rainwater_capture_rebate' with 128 participants.\n",
      "  - Created 'has_drip_conversion_rebate' with 311 participants.\n",
      "  - Created 'has_graywater_rebate' with 174 participants.\n",
      "\n",
      "Computing rebate_count column from: ['has_wbic_rebate', 'has_irrigation_upgrade_rebate', 'has_landscape_conversion_rebate', 'has_rainwater_capture_rebate', 'has_drip_conversion_rebate', 'has_graywater_rebate', 'participated_in_graywater']\n",
      "  - Created 'rebate_count' column with values ranging from 0 to 5\n",
      "  - Average rebates per customer: 1.40\n",
      "\n",
      "Fully enriched master dataset saved to 'cleaned_master_data.csv'.\n",
      "The dataset is now ready for Exploratory Data Analysis (EDA).\n"
     ]
    }
   ],
   "source": [
    "print(\"\\n--- Feature Engineering: Deconstructing RebateType ---\")\n",
    "\n",
    "# Load the dataset enriched with the graywater flag\n",
    "df_master = pd.read_csv('cleaned_master_data.csv', low_memory=False)\n",
    "\n",
    "# Define the mapping from codes to full feature names and descriptions\n",
    "rebate_mapping = {\n",
    "    'W': 'has_wbic_rebate', # Weather Based Irrigation Controller\n",
    "    'I': 'has_irrigation_upgrade_rebate', # Irrigation Equipment Upgrade\n",
    "    'L': 'has_landscape_conversion_rebate', # Landscape Conversion\n",
    "    'R': 'has_rainwater_capture_rebate', # Rainwater Capture\n",
    "    'D': 'has_drip_conversion_rebate', # Drip Irrigation Conversion\n",
    "    'G': 'has_graywater_rebate' # Graywater Rebate (for graywater-only customers)\n",
    "}\n",
    "\n",
    "print(\"Creating new boolean columns for each sub-rebate based on 'RebateType'...\")\n",
    "# Ensure RebateType is a string to allow for '.str.contains()'\n",
    "df_master['RebateType'] = df_master['RebateType'].astype(str)\n",
    "\n",
    "for code, new_col in rebate_mapping.items():\n",
    "    df_master[new_col] = df_master['RebateType'].str.contains(code, na=False)\n",
    "    print(f\"  - Created '{new_col}' with {df_master[new_col].sum()} participants.\")\n",
    "\n",
    "# Add rebate_count column - sum of all six boolean rebate columns\n",
    "rebate_cols_for_count = list(rebate_mapping.values()) + ['participated_in_graywater']\n",
    "print(f\"\\nComputing rebate_count column from: {rebate_cols_for_count}\")\n",
    "\n",
    "# Ensure all rebate columns are boolean and handle any missing values\n",
    "for col in rebate_cols_for_count:\n",
    "    if col in df_master.columns:\n",
    "        df_master[col] = df_master[col].fillna(False).astype(bool)\n",
    "    else:\n",
    "        print(f\"Warning: Column '{col}' not found, treating as False for all rows.\")\n",
    "        df_master[col] = False\n",
    "\n",
    "# Calculate rebate_count as the sum of True values across all rebate columns\n",
    "df_master['rebate_count'] = df_master[rebate_cols_for_count].sum(axis=1)\n",
    "print(f\"  - Created 'rebate_count' column with values ranging from {df_master['rebate_count'].min()} to {df_master['rebate_count'].max()}\")\n",
    "print(f\"  - Average rebates per customer: {df_master['rebate_count'].mean():.2f}\")\n",
    "\n",
    "# Save the final, fully-featured dataset\n",
    "# Ensure all original and new columns are kept\n",
    "output_path = 'cleaned_master_data.csv'\n",
    "df_master.to_csv(output_path, index=False)\n",
    "\n",
    "print(f\"\\nFully enriched master dataset saved to '{output_path}'.\")\n",
    "print(\"The dataset is now ready for Exploratory Data Analysis (EDA).\")"
   ]
  },
  {
   "cell_type": "markdown",
   "id": "daa00a5c",
   "metadata": {},
   "source": [
    "# Phase 2: Exploratory Data Analysis (EDA)"
   ]
  },
  {
   "cell_type": "markdown",
   "id": "50fe7b73",
   "metadata": {},
   "source": [
    "## Phase 2.1: Rebate Program Popularity and Distribution\n",
    "**Objective:** Understand the baseline popularity of each rebate to inform our cold-start strategy and identify niche programs."
   ]
  },
  {
   "cell_type": "code",
   "execution_count": 8,
   "id": "69a4b7fb",
   "metadata": {
    "execution": {
     "iopub.execute_input": "2025-07-29T02:39:27.446300Z",
     "iopub.status.busy": "2025-07-29T02:39:27.446150Z",
     "iopub.status.idle": "2025-07-29T02:39:27.583791Z",
     "shell.execute_reply": "2025-07-29T02:39:27.583441Z"
    }
   },
   "outputs": [
    {
     "name": "stdout",
     "output_type": "stream",
     "text": [
      "--- EDA: Analyzing Rebate Popularity ---\n"
     ]
    },
    {
     "name": "stdout",
     "output_type": "stream",
     "text": [
      "Loaded dataset with 15363 rows.\n",
      "\n",
      "Summary Statistics for Rebate Participation:\n",
      "has_landscape_conversion_rebate    10390\n",
      "has_wbic_rebate                     5742\n",
      "has_irrigation_upgrade_rebate       4780\n",
      "has_drip_conversion_rebate           311\n",
      "has_graywater_rebate                 174\n",
      "has_rainwater_capture_rebate         128\n",
      "participated_in_graywater              0\n",
      "dtype: int64\n"
     ]
    },
    {
     "data": {
      "image/png": "[encoded data removed]",
      "text/plain": [
       "<Figure size 1200x800 with 1 Axes>"
      ]
     },
     "metadata": {},
     "output_type": "display_data"
    }
   ],
   "source": [
    "print(\"--- EDA: Analyzing Rebate Popularity ---\")\n",
    "# Load the fully-featured dataset\n",
    "df = pd.read_csv('cleaned_master_data.csv', low_memory=False)\n",
    "print(f\"Loaded dataset with {len(df)} rows.\")\n",
    "\n",
    "# Analyze and plot rebate participation\n",
    "print(\"\\nSummary Statistics for Rebate Participation:\")\n",
    "rebate_cols = [col for col in df.columns if col.startswith('has_') or col == 'participated_in_graywater']\n",
    "participation_counts = df[rebate_cols].sum().sort_values(ascending=False)\n",
    "print(participation_counts)\n",
    "\n",
    "plt.figure(figsize=(12, 8))\n",
    "participation_counts.plot(kind='barh', color='skyblue')\n",
    "plt.title('Total Participants by Rebate Program', fontsize=16)\n",
    "plt.xlabel('Number of Participants', fontsize=12)\n",
    "plt.tight_layout()\n",
    "plt.show()"
   ]
  },
  {
   "cell_type": "markdown",
   "id": "9ee87d78",
   "metadata": {},
   "source": [
    "## Phase 2.2: Geographic Pattern Analysis\n",
    "**Objective:** Validate the geographic similarity hypothesis by identifying \"hotspots\" of rebate activity."
   ]
  },
  {
   "cell_type": "code",
   "execution_count": 9,
   "id": "4a7f09e0",
   "metadata": {
    "execution": {
     "iopub.execute_input": "2025-07-29T02:39:27.586326Z",
     "iopub.status.busy": "2025-07-29T02:39:27.586051Z",
     "iopub.status.idle": "2025-07-29T02:39:27.705048Z",
     "shell.execute_reply": "2025-07-29T02:39:27.704701Z"
    }
   },
   "outputs": [
    {
     "name": "stdout",
     "output_type": "stream",
     "text": [
      "\n",
      "--- EDA: Analyzing Geographic Patterns ---\n",
      "Top 15 Participating Cities:\n",
      "City\n",
      "San Jose           6897\n",
      "Sunnyvale          1150\n",
      "Palo Alto          1117\n",
      "Santa Clara         921\n",
      "Cupertino           852\n",
      "Saratoga            760\n",
      "Mountain View       622\n",
      "Morgan Hill         576\n",
      "Los Gatos           496\n",
      "Los Altos           490\n",
      "Campbell            464\n",
      "Gilroy              355\n",
      "Milpitas            355\n",
      "Los Altos Hills     124\n",
      "Monte Sereno         76\n",
      "Name: count, dtype: int64\n"
     ]
    },
    {
     "data": {
      "image/png": "[encoded data removed]",
      "text/plain": [
       "<Figure size 1200x1000 with 1 Axes>"
      ]
     },
     "metadata": {},
     "output_type": "display_data"
    }
   ],
   "source": [
    "print(\"\\n--- EDA: Analyzing Geographic Patterns ---\")\n",
    "print(\"Top 15 Participating Cities:\")\n",
    "top_cities = df['City'].value_counts().nlargest(15)\n",
    "print(top_cities)\n",
    "\n",
    "plt.figure(figsize=(12, 10))\n",
    "top_cities.plot(kind='barh', color='salmon')\n",
    "plt.title('Top 15 Participating Cities', fontsize=16)\n",
    "plt.xlabel('Number of Rebate Applications', fontsize=12)\n",
    "plt.gca().invert_yaxis()\n",
    "plt.tight_layout()\n",
    "plt.show()"
   ]
  },
  {
   "cell_type": "markdown",
   "id": "d36621e9",
   "metadata": {},
   "source": [
    "## Phase 2.3: Rebate Co-occurrence and Correlation\n",
    "**Objective:** Discover natural \"bundles\" of rebates that are frequently adopted together, which is the foundation for collaborative filtering."
   ]
  },
  {
   "cell_type": "code",
   "execution_count": 10,
   "id": "72462989",
   "metadata": {
    "execution": {
     "iopub.execute_input": "2025-07-29T02:39:27.707025Z",
     "iopub.status.busy": "2025-07-29T02:39:27.706895Z",
     "iopub.status.idle": "2025-07-29T02:39:27.907149Z",
     "shell.execute_reply": "2025-07-29T02:39:27.906808Z"
    }
   },
   "outputs": [
    {
     "name": "stdout",
     "output_type": "stream",
     "text": [
      "\n",
      "--- EDA: Analyzing Rebate Co-occurrence ---\n"
     ]
    },
    {
     "data": {
      "image/png": "[encoded data removed]",
      "text/plain": [
       "<Figure size 1000x800 with 2 Axes>"
      ]
     },
     "metadata": {},
     "output_type": "display_data"
    }
   ],
   "source": [
    "print(\"\\n--- EDA: Analyzing Rebate Co-occurrence ---\")\n",
    "rebate_cols = [col for col in df.columns if col.startswith('has_') or col == 'participated_in_graywater']\n",
    "correlation_matrix = df[rebate_cols].corr()\n",
    "\n",
    "plt.figure(figsize=(10, 8))\n",
    "sns.heatmap(correlation_matrix, annot=True, cmap='coolwarm', fmt='.2f', linewidths=.5)\n",
    "plt.title('Correlation Matrix of Rebate Programs', fontsize=16)\n",
    "plt.show()"
   ]
  },
  {
   "cell_type": "markdown",
   "id": "8595dfd5",
   "metadata": {},
   "source": [
    "## Phase 2.4: Analysis by Customer Segment (Site Type)\n",
    "**Objective:** Ensure recommendations are personalized by analyzing the unique preferences of different customer segments (e.g., Single Family vs. Commercial)."
   ]
  },
  {
   "cell_type": "code",
   "execution_count": 11,
   "id": "7d642ec1",
   "metadata": {
    "execution": {
     "iopub.execute_input": "2025-07-29T02:39:27.908913Z",
     "iopub.status.busy": "2025-07-29T02:39:27.908774Z",
     "iopub.status.idle": "2025-07-29T02:39:28.049578Z",
     "shell.execute_reply": "2025-07-29T02:39:28.049091Z"
    }
   },
   "outputs": [
    {
     "name": "stdout",
     "output_type": "stream",
     "text": [
      "\n",
      "--- EDA: Analyzing by Site Type ---\n"
     ]
    },
    {
     "name": "stdout",
     "output_type": "stream",
     "text": [
      "               participated_in_graywater  has_wbic_rebate  \\\n",
      "Site Type                                                   \n",
      "Commercial                             0              188   \n",
      "Industrial                             0               15   \n",
      "Institutional                          0               93   \n",
      "MFD                                    0              237   \n",
      "Single Family                          0             5209   \n",
      "\n",
      "               has_irrigation_upgrade_rebate  has_landscape_conversion_rebate  \\\n",
      "Site Type                                                                       \n",
      "Commercial                               201                              306   \n",
      "Industrial                                17                               34   \n",
      "Institutional                             65                               68   \n",
      "MFD                                      247                              459   \n",
      "Single Family                           4250                             9523   \n",
      "\n",
      "               has_rainwater_capture_rebate  has_drip_conversion_rebate  \\\n",
      "Site Type                                                                 \n",
      "Commercial                                0                          20   \n",
      "Industrial                                0                           2   \n",
      "Institutional                             1                           5   \n",
      "MFD                                       1                          31   \n",
      "Single Family                           126                         253   \n",
      "\n",
      "               has_graywater_rebate  \n",
      "Site Type                            \n",
      "Commercial                        0  \n",
      "Industrial                        0  \n",
      "Institutional                     0  \n",
      "MFD                               0  \n",
      "Single Family                   174  \n"
     ]
    },
    {
     "data": {
      "image/png": "[encoded data removed]",
      "text/plain": [
       "<Figure size 1400x1000 with 1 Axes>"
      ]
     },
     "metadata": {},
     "output_type": "display_data"
    }
   ],
   "source": [
    "print(\"\\n--- EDA: Analyzing by Site Type ---\")\n",
    "rebate_cols = [col for col in df.columns if col.startswith('has_') or col == 'participated_in_graywater']\n",
    "site_type_analysis = df.groupby('Site Type')[rebate_cols].sum()\n",
    "print(site_type_analysis)\n",
    "\n",
    "# Plotting the analysis\n",
    "site_type_analysis.plot(kind='bar', stacked=True, figsize=(14, 10), colormap='viridis')\n",
    "plt.title('Rebate Participation by Site Type', fontsize=16)\n",
    "plt.ylabel('Number of Participants', fontsize=12)\n",
    "plt.xlabel('Site Type', fontsize=12)\n",
    "plt.xticks(rotation=45, ha='right')\n",
    "plt.legend(title='Rebate Program')\n",
    "plt.tight_layout()\n",
    "plt.show()"
   ]
  },
  {
   "cell_type": "markdown",
   "id": "fb41341f",
   "metadata": {},
   "source": [
    "# Phase 3: Baseline Recommendation Model\n",
    "**Objective:** Build a baseline recommendation engine using the insights from the EDA. This model will use a hybrid, rule-based approach combining content-based, collaborative, and popularity-based filtering to generate personalized recommendations."
   ]
  },
  {
   "cell_type": "code",
   "execution_count": 12,
   "id": "9a4bd816",
   "metadata": {
    "execution": {
     "iopub.execute_input": "2025-07-29T02:39:28.052084Z",
     "iopub.status.busy": "2025-07-29T02:39:28.051877Z",
     "iopub.status.idle": "2025-07-29T02:39:28.087565Z",
     "shell.execute_reply": "2025-07-29T02:39:28.087021Z"
    }
   },
   "outputs": [
    {
     "name": "stdout",
     "output_type": "stream",
     "text": [
      "--- Defining Baseline Recommendation Model ---\n",
      "Baseline recommendation model defined successfully.\n"
     ]
    }
   ],
   "source": [
    "print(\"--- Defining Baseline Recommendation Model ---\")\n",
    "\n",
    "# Ensure data is loaded for model use\n",
    "df = pd.read_csv('cleaned_master_data.csv', low_memory=False)\n",
    "rebate_cols = [col for col in df.columns if col.startswith('has_') or col == 'participated_in_graywater']\n",
    "\n",
    "# --- Create a mapping for human-readable names ---\n",
    "rebate_name_map = {\n",
    "    'has_drip_conversion_rebate': 'Drip Conversion Rebate',\n",
    "    'has_irrigation_upgrade_rebate': 'Irrigation Upgrade Rebate',\n",
    "    'has_landscape_conversion_rebate': 'Landscape Conversion Rebate',\n",
    "    'has_rainwater_capture_rebate': 'Rainwater Capture Rebate',\n",
    "    'has_wbic_rebate': 'WBIC Rebate',\n",
    "    'has_graywater_rebate': 'Graywater Rebate',\n",
    "    'participated_in_graywater': 'Graywater Rebate'\n",
    "}\n",
    "\n",
    "# --- Pre-calculate Popularity Metrics for efficiency ---\n",
    "# 1. Overall popularity\n",
    "overall_popularity = df[rebate_cols].sum()\n",
    "\n",
    "# 2. Geographic popularity (by city)\n",
    "city_popularity = df.groupby('City')[rebate_cols].sum()\n",
    "\n",
    "# 3. Site Type popularity\n",
    "site_type_popularity = df.groupby('Site Type')[rebate_cols].sum()\n",
    "\n",
    "def get_recommendations(customer_data, n=5):\n",
    "    '''\n",
    "    Generates rebate recommendations for a single customer based on EDA insights,\n",
    "    including the reasons for each recommendation.\n",
    "    '''\n",
    "    recommendations = {}\n",
    "    customer_rebates = {col for col in rebate_cols if customer_data[col] == 1}\n",
    "    customer_city = customer_data['City']\n",
    "    customer_site_type = customer_data['Site Type']\n",
    "\n",
    "    # --- 1. Add correlated rebates ---\n",
    "    for rebate in customer_rebates:\n",
    "        correlated_series = correlation_matrix[rebate][correlation_matrix[rebate] > 0.4]\n",
    "        for correlated_rebate in correlated_series.index:\n",
    "            if correlated_rebate not in customer_rebates:\n",
    "                if correlated_rebate not in recommendations:\n",
    "                    recommendations[correlated_rebate] = {'score': 0, 'reasons': []}\n",
    "                recommendations[correlated_rebate]['score'] += 3 # High boost for correlation\n",
    "                recommendations[correlated_rebate]['reasons'].append(f\"Correlates with '{rebate_name_map[rebate]}'\")\n",
    "\n",
    "    # --- 2. Add rebates popular by city ---\n",
    "    if customer_city in city_popularity.index:\n",
    "        city_popular_rebates = city_popularity.loc[customer_city].nlargest(3).index\n",
    "        for rebate in city_popular_rebates:\n",
    "            if rebate not in customer_rebates:\n",
    "                if rebate not in recommendations:\n",
    "                    recommendations[rebate] = {'score': 0, 'reasons': []}\n",
    "                recommendations[rebate]['score'] += 2 # Medium boost for city\n",
    "                recommendations[rebate]['reasons'].append(f\"Popular in your city ({customer_city})\")\n",
    "\n",
    "    # --- 3. Add rebates popular by site type ---\n",
    "    if customer_site_type in site_type_popularity.index:\n",
    "        site_type_popular_rebates = site_type_popularity.loc[customer_site_type].nlargest(2).index\n",
    "        for rebate in site_type_popular_rebates:\n",
    "            if rebate not in customer_rebates:\n",
    "                if rebate not in recommendations:\n",
    "                    recommendations[rebate] = {'score': 0, 'reasons': []}\n",
    "                recommendations[rebate]['score'] += 1.5 # Lower boost for site type\n",
    "                recommendations[rebate]['reasons'].append(f\"Popular for your site type ({customer_site_type})\")\n",
    "\n",
    "    # --- 4. Content-based filtering ---\n",
    "    if customer_site_type != 'Single Family':\n",
    "        for rebate in ['participated_in_graywater', 'has_rainwater_capture_rebate']:\n",
    "            if rebate in recommendations:\n",
    "                del recommendations[rebate]\n",
    "\n",
    "    # --- 5. Add overall popular rebates as a fallback ---\n",
    "    overall_popular_rebates = overall_popularity.nlargest(5).index\n",
    "    for rebate in overall_popular_rebates:\n",
    "        if rebate not in customer_rebates and rebate not in recommendations:\n",
    "            recommendations[rebate] = {'score': 1, 'reasons': [\"Generally popular program\"]}\n",
    "\n",
    "    # --- 6. Format and sort the final list ---\n",
    "    final_recs = [{'item_code': k, 'item': rebate_name_map[k], 'score': f\"{v['score']:.2f}\", 'reasons': v['reasons']} for k, v in recommendations.items()]\n",
    "    final_recs.sort(key=lambda x: x['score'], reverse=True)\n",
    "    \n",
    "    return final_recs[:n]\n",
    "\n",
    "print(\"Baseline recommendation model defined successfully.\")"
   ]
  },
  {
   "cell_type": "code",
   "execution_count": 13,
   "id": "4e4f5eae",
   "metadata": {
    "execution": {
     "iopub.execute_input": "2025-07-29T02:39:28.089447Z",
     "iopub.status.busy": "2025-07-29T02:39:28.089315Z",
     "iopub.status.idle": "2025-07-29T02:39:28.105312Z",
     "shell.execute_reply": "2025-07-29T02:39:28.104969Z"
    }
   },
   "outputs": [
    {
     "name": "stdout",
     "output_type": "stream",
     "text": [
      "\n",
      "--- Demonstrating Recommendation Model ---\n",
      "\n",
      "Recommendations for a new Single Family customer in San Jose:\n",
      "[{'item_code': 'has_landscape_conversion_rebate', 'item': 'Landscape Conversion Rebate', 'score': '3.50', 'reasons': ['Popular in your city (San Jose)', 'Popular for your site type (Single Family)']}, {'item_code': 'has_wbic_rebate', 'item': 'WBIC Rebate', 'score': '3.50', 'reasons': ['Popular in your city (San Jose)', 'Popular for your site type (Single Family)']}, {'item_code': 'has_irrigation_upgrade_rebate', 'item': 'Irrigation Upgrade Rebate', 'score': '2.00', 'reasons': ['Popular in your city (San Jose)']}, {'item_code': 'has_drip_conversion_rebate', 'item': 'Drip Conversion Rebate', 'score': '1.00', 'reasons': ['Generally popular program']}, {'item_code': 'has_graywater_rebate', 'item': 'Graywater Rebate', 'score': '1.00', 'reasons': ['Generally popular program']}]\n",
      "\n",
      "Recommendations for a Commercial customer in Palo Alto with a WBIC rebate:\n",
      "[{'item_code': 'has_landscape_conversion_rebate', 'item': 'Landscape Conversion Rebate', 'score': '3.50', 'reasons': ['Popular in your city (Palo Alto)', 'Popular for your site type (Commercial)']}, {'item_code': 'has_drip_conversion_rebate', 'item': 'Drip Conversion Rebate', 'score': '1.00', 'reasons': ['Generally popular program']}, {'item_code': 'has_graywater_rebate', 'item': 'Graywater Rebate', 'score': '1.00', 'reasons': ['Generally popular program']}]\n",
      "\n",
      "Recommendations for a Single Family customer in Saratoga with a Landscape Conversion rebate:\n",
      "[{'item_code': 'has_wbic_rebate', 'item': 'WBIC Rebate', 'score': '3.50', 'reasons': ['Popular in your city (Saratoga)', 'Popular for your site type (Single Family)']}, {'item_code': 'has_irrigation_upgrade_rebate', 'item': 'Irrigation Upgrade Rebate', 'score': '2.00', 'reasons': ['Popular in your city (Saratoga)']}, {'item_code': 'has_drip_conversion_rebate', 'item': 'Drip Conversion Rebate', 'score': '1.00', 'reasons': ['Generally popular program']}, {'item_code': 'has_graywater_rebate', 'item': 'Graywater Rebate', 'score': '1.00', 'reasons': ['Generally popular program']}]\n"
     ]
    }
   ],
   "source": [
    "print(\"\\n--- Demonstrating Recommendation Model ---\")\n",
    "\n",
    "# Example 1: A Single Family home in San Jose with no rebates\n",
    "query_1 = df[(df['Site Type'] == 'Single Family') & (df['City'] == 'San Jose') & (df[rebate_cols].sum(axis=1) == 0)]\n",
    "if not query_1.empty:\n",
    "    customer_1 = query_1.iloc[0]\n",
    "    recs_1 = get_recommendations(customer_1)\n",
    "    print(f\"\\nRecommendations for a new Single Family customer in {customer_1['City']}:\\n{recs_1}\")\n",
    "else:\n",
    "    print(\"\\nCould not find a sample customer for Example 1 (SF, San Jose, no rebates).\")\n",
    "\n",
    "# Example 2: A Commercial property in Palo Alto that already has a WBIC rebate\n",
    "query_2 = df[(df['Site Type'] == 'Commercial') & (df['City'] == 'Palo Alto') & (df['has_wbic_rebate'] == 1)]\n",
    "if not query_2.empty:\n",
    "    customer_2 = query_2.iloc[0]\n",
    "    recs_2 = get_recommendations(customer_2)\n",
    "    print(f\"\\nRecommendations for a Commercial customer in {customer_2['City']} with a WBIC rebate:\\n{recs_2}\")\n",
    "else:\n",
    "    print(\"\\nCould not find a sample customer for Example 2 (Commercial, Palo Alto, WBIC rebate).\")\n",
    "\n",
    "# Example 3: A Single Family home in Saratoga that has a Landscape Conversion rebate\n",
    "query_3 = df[(df['Site Type'] == 'Single Family') & (df['City'] == 'Saratoga') & (df['has_landscape_conversion_rebate'] == 1)]\n",
    "if not query_3.empty:\n",
    "    customer_3 = query_3.iloc[0]\n",
    "    recs_3 = get_recommendations(customer_3)\n",
    "    print(f\"\\nRecommendations for a Single Family customer in {customer_3['City']} with a Landscape Conversion rebate:\\n{recs_3}\")\n",
    "else:\n",
    "    print(\"\\nCould not find a sample customer for Example 3 (SF, Saratoga, Landscape rebate).\")"
   ]
  },
  {
   "cell_type": "markdown",
   "id": "c75f7961",
   "metadata": {},
   "source": [
    "# Phase 4: Advanced Recommendation Model (SVD)\n",
    "This phase implements and evaluates a more sophisticated recommendation model using Singular Value Decomposition (SVD) to uncover latent features in the data."
   ]
  },
  {
   "cell_type": "markdown",
   "id": "e683b526",
   "metadata": {},
   "source": [
    "## Verification Step: Check for Multi-Rebate Users\n",
    "**Objective:** Verify that the dataset contains users who have participated in multiple rebates over time. This is essential for ensuring that the temporal train-test split is valid, as it requires users to be present in both the training period (past rebates) and the testing period (future rebates)."
   ]
  },
  {
   "cell_type": "code",
   "execution_count": 14,
   "id": "31ceff51",
   "metadata": {
    "execution": {
     "iopub.execute_input": "2025-07-29T02:39:28.107343Z",
     "iopub.status.busy": "2025-07-29T02:39:28.106991Z",
     "iopub.status.idle": "2025-07-29T02:39:28.134537Z",
     "shell.execute_reply": "2025-07-29T02:39:28.134019Z"
    }
   },
   "outputs": [
    {
     "name": "stdout",
     "output_type": "stream",
     "text": [
      "\n",
      "--- Verifying User Participation Counts ---\n"
     ]
    },
    {
     "name": "stdout",
     "output_type": "stream",
     "text": [
      "Total unique users (Site IDs): 14154\n",
      "Number of users with more than one rebate: 1042\n",
      "\n",
      "Conclusion: The dataset correctly contains users with multiple interactions.\n",
      "This confirms that the temporal train-test split is valid.\n"
     ]
    }
   ],
   "source": [
    "\n",
    "print(\"\\n--- Verifying User Participation Counts ---\")\n",
    "df = pd.read_csv('cleaned_master_data.csv', low_memory=False)\n",
    "\n",
    "user_participation_counts = df['Site ID'].value_counts()\n",
    "\n",
    "multi_participation_users = user_participation_counts[user_participation_counts > 1]\n",
    "\n",
    "print(f\"Total unique users (Site IDs): {len(user_participation_counts)}\")\n",
    "print(f\"Number of users with more than one rebate: {len(multi_participation_users)}\")\n",
    "\n",
    "if len(multi_participation_users) > 0:\n",
    "    print(\"\\nConclusion: The dataset correctly contains users with multiple interactions.\")\n",
    "    print(\"This confirms that the temporal train-test split is valid.\")\n",
    "else:\n",
    "    print(\"\\nCRITICAL WARNING: No users have multiple rebates. The evaluation logic is flawed.\")\n"
   ]
  },
  {
   "cell_type": "markdown",
   "id": "9b2518e7",
   "metadata": {},
   "source": [
    "## Phase 4.1: Data Preparation & Temporal Split\n",
    "Here, we prepare the data for the `scikit-surprise` library. We perform a temporal split to train the model on past data and test it on future data, simulating a real-world deployment scenario."
   ]
  },
  {
   "cell_type": "code",
   "execution_count": 15,
   "id": "8ebf6df5",
   "metadata": {
    "execution": {
     "iopub.execute_input": "2025-07-29T02:39:28.136526Z",
     "iopub.status.busy": "2025-07-29T02:39:28.136383Z",
     "iopub.status.idle": "2025-07-29T02:39:29.115604Z",
     "shell.execute_reply": "2025-07-29T02:39:29.115313Z"
    }
   },
   "outputs": [
    {
     "name": "stdout",
     "output_type": "stream",
     "text": [
      "--- Preparing Data for Advanced Model ---\n"
     ]
    },
    {
     "name": "stdout",
     "output_type": "stream",
     "text": [
      "Training set contains 15829 interactions.\n",
      "Test set contains 5522 interactions.\n",
      "\n",
      "Data successfully formatted for scikit-surprise and training set built.\n"
     ]
    }
   ],
   "source": [
    "print(\"--- Preparing Data for Advanced Model ---\")\n",
    "\n",
    "# Load the dataset\n",
    "df = pd.read_csv('cleaned_master_data.csv', low_memory=False)\n",
    "\n",
    "# Robustly parse 'Request Date' to handle mixed formats (MM/DD/YYYY, YYYY-MM-DD, etc.)\n",
    "from datetime import datetime\n",
    "def robust_parse_date(date_str):\n",
    "    for fmt in (\"%Y-%m-%d\", \"%m/%d/%Y\", \"%Y/%m/%d\", \"%d-%b-%Y\"):\n",
    "        try:\n",
    "            return datetime.strptime(str(date_str), fmt)\n",
    "        except (ValueError, TypeError):\n",
    "            continue\n",
    "    try:\n",
    "        return pd.to_datetime(str(date_str), errors='coerce')\n",
    "    except Exception:\n",
    "        return pd.NaT\n",
    "df['Request Date'] = df['Request Date'].apply(robust_parse_date)\n",
    "\n",
    "\n",
    "# --- Create the user-item interaction data ---\n",
    "# We need to melt the dataframe to get a user-item-rating format\n",
    "rebate_cols = [\n",
    "    'has_wbic_rebate', 'has_irrigation_upgrade_rebate', 'has_landscape_conversion_rebate',\n",
    "    'has_drip_conversion_rebate', 'has_rainwater_capture_rebate', 'participated_in_graywater'\n",
    "]\n",
    "\n",
    "# Use Site ID as the user ID\n",
    "user_item_df = df[['Site ID', 'Request Date'] + rebate_cols]\n",
    "\n",
    "# Melt the dataframe to long format\n",
    "interactions_df = user_item_df.melt(\n",
    "    id_vars=['Site ID', 'Request Date'],\n",
    "    value_vars=rebate_cols,\n",
    "    var_name='item',\n",
    "    value_name='rating'\n",
    ")\n",
    "\n",
    "# Keep only the interactions (rating == 1)\n",
    "interactions_df = interactions_df[interactions_df['rating'] == 1].copy()\n",
    "\n",
    "# --- User-based Train-Test Split: Ensure all test users are in train set ---\n",
    "# For each user with >1 interaction, keep their most recent interaction as test, rest as train\n",
    "interactions_df = interactions_df.sort_values(['Site ID', 'Request Date'])\n",
    "train_rows = []\n",
    "test_rows = []\n",
    "for user_id, group in interactions_df.groupby('Site ID'):\n",
    "    if len(group) > 1:\n",
    "        # Most recent interaction for test, rest for train\n",
    "        test_rows.append(group.iloc[-1])\n",
    "        train_rows.extend(group.iloc[:-1].values)\n",
    "    else:\n",
    "        # Only one interaction: use for training only\n",
    "        train_rows.extend(group.values)\n",
    "train_df = pd.DataFrame(train_rows, columns=interactions_df.columns)\n",
    "test_df = pd.DataFrame(test_rows, columns=interactions_df.columns)\n",
    "\n",
    "print(f\"Training set contains {len(train_df)} interactions.\")\n",
    "print(f\"Test set contains {len(test_df)} interactions.\")\n",
    "\n",
    "# --- Format for Surprise Library ---\n",
    "# The Reader object is needed to parse the file or dataframe\n",
    "reader = Reader(rating_scale=(0, 1))\n",
    "\n",
    "# The columns must be in the order: user, item, rating\n",
    "# We select only the required columns for loading\n",
    "train_data_surprise = Dataset.load_from_df(train_df[['Site ID', 'item', 'rating']], reader)\n",
    "\n",
    "# Build the full training set from this data\n",
    "trainset = train_data_surprise.build_full_trainset()\n",
    "\n",
    "print(\"\\nData successfully formatted for scikit-surprise and training set built.\")"
   ]
  },
  {
   "cell_type": "markdown",
   "id": "fe305a3d",
   "metadata": {},
   "source": [
    "## Phase 4.2: Train SVD Model\n",
    "With the data prepared, we now instantiate and train the SVD algorithm. The model will learn the latent factors from the training data."
   ]
  },
  {
   "cell_type": "code",
   "execution_count": 16,
   "id": "7fd7adf3",
   "metadata": {
    "execution": {
     "iopub.execute_input": "2025-07-29T02:39:29.117109Z",
     "iopub.status.busy": "2025-07-29T02:39:29.116982Z",
     "iopub.status.idle": "2025-07-29T02:39:29.221399Z",
     "shell.execute_reply": "2025-07-29T02:39:29.221100Z"
    }
   },
   "outputs": [
    {
     "name": "stdout",
     "output_type": "stream",
     "text": [
      "--- Training SVD Model ---\n",
      "\n",
      "SVD model training complete.\n"
     ]
    }
   ],
   "source": [
    "print(\"--- Training SVD Model ---\")\n",
    "\n",
    "# Instantiate the SVD model\n",
    "# These are some standard parameters; they can be tuned later.\n",
    "svd_model = SVD(n_factors=100, n_epochs=20, lr_all=0.005, reg_all=0.02, random_state=42)\n",
    "\n",
    "# Train the model on the training set\n",
    "svd_model.fit(trainset)\n",
    "\n",
    "print(\"\\nSVD model training complete.\")"
   ]
  },
  {
   "cell_type": "markdown",
   "id": "a0aa7886",
   "metadata": {},
   "source": [
    "## Phase 4.3: Hyperparameter Tuning with GridSearchCV\n",
    "**Objective:** Systematically search for the best combination of hyperparameters for the SVD model to maximize its predictive accuracy."
   ]
  },
  {
   "cell_type": "code",
   "execution_count": 17,
   "id": "b2297e53",
   "metadata": {
    "execution": {
     "iopub.execute_input": "2025-07-29T02:39:29.222833Z",
     "iopub.status.busy": "2025-07-29T02:39:29.222741Z",
     "iopub.status.idle": "2025-07-29T02:39:36.172296Z",
     "shell.execute_reply": "2025-07-29T02:39:36.171952Z"
    }
   },
   "outputs": [
    {
     "name": "stdout",
     "output_type": "stream",
     "text": [
      "\n",
      "--- Tuning SVD Hyperparameters ---\n"
     ]
    },
    {
     "name": "stderr",
     "output_type": "stream",
     "text": [
      "[Parallel(n_jobs=1)]: Done  40 tasks      | elapsed:    3.1s\n"
     ]
    },
    {
     "name": "stdout",
     "output_type": "stream",
     "text": [
      "\n",
      "Best RMSE score: 0.0006\n",
      "Best parameters for RMSE: {'n_factors': 50, 'n_epochs': 30, 'lr_all': 0.01, 'reg_all': 0.1}\n",
      "\n",
      "Assigning the best SVD model for evaluation...\n",
      "Training the optimized model on the full training set...\n",
      "Optimized model is trained and ready for evaluation.\n"
     ]
    },
    {
     "name": "stderr",
     "output_type": "stream",
     "text": [
      "[Parallel(n_jobs=1)]: Done  72 out of  72 | elapsed:    6.8s finished\n"
     ]
    }
   ],
   "source": [
    "\n",
    "from surprise.model_selection import GridSearchCV\n",
    "\n",
    "print(\"\\n--- Tuning SVD Hyperparameters ---\")\n",
    "\n",
    "# Define the parameter grid to search\n",
    "param_grid = {\n",
    "    'n_factors': [50, 100, 150],\n",
    "    'n_epochs': [20, 30],\n",
    "    'lr_all': [0.005, 0.01],\n",
    "    'reg_all': [0.02, 0.1]\n",
    "}\n",
    "\n",
    "# Set up the grid search to run on the training set\n",
    "gs = GridSearchCV(SVD, param_grid, measures=['rmse', 'mae'], cv=3, joblib_verbose=2)\n",
    "\n",
    "# Fit the data\n",
    "gs.fit(train_data_surprise)\n",
    "\n",
    "# Print the best score and parameters\n",
    "print(f\"\\nBest RMSE score: {gs.best_score['rmse']:.4f}\")\n",
    "print(f\"Best parameters for RMSE: {gs.best_params['rmse']}\")\n",
    "\n",
    "# Use the best model for the final evaluation\n",
    "print(\"\\nAssigning the best SVD model for evaluation...\")\n",
    "svd_model = gs.best_estimator['rmse']\n",
    "\n",
    "# Now, train this best model on the full training set before evaluation\n",
    "print(\"Training the optimized model on the full training set...\")\n",
    "svd_model.fit(trainset)\n",
    "print(\"Optimized model is trained and ready for evaluation.\")\n"
   ]
  },
  {
   "cell_type": "markdown",
   "id": "432532e9",
   "metadata": {},
   "source": [
    "## Phase 4.4: Multi-k Evaluation of SVD and Baseline Models\n",
    "Evaluate both models for k=3, 4, and 5 using precision@k and recall@k. Results are summarized in a table below."
   ]
  },
  {
   "cell_type": "code",
   "execution_count": 18,
   "id": "92e02b29",
   "metadata": {
    "execution": {
     "iopub.execute_input": "2025-07-29T02:39:36.174053Z",
     "iopub.status.busy": "2025-07-29T02:39:36.173890Z",
     "iopub.status.idle": "2025-07-29T02:46:40.100768Z",
     "shell.execute_reply": "2025-07-29T02:46:40.100418Z"
    }
   },
   "outputs": [
    {
     "name": "stdout",
     "output_type": "stream",
     "text": [
      "\n",
      "--- Evaluating SVD, Baseline, and Hybrid Models ---\n"
     ]
    },
    {
     "name": "stdout",
     "output_type": "stream",
     "text": [
      "   Model  k  Precision@k  Recall@k\n",
      "Baseline  3     0.026711  0.080043\n",
      "  Hybrid  3     0.300887  0.895690\n",
      "     SVD  3     0.277647  0.825969\n",
      "Baseline  4     0.022320  0.080043\n",
      "  Hybrid  4     0.243843  0.895690\n",
      "     SVD  4     0.243843  0.895690\n",
      "Baseline  5     0.022320  0.080043\n",
      "  Hybrid  5     0.243843  0.895690\n",
      "     SVD  5     0.243843  0.895690\n"
     ]
    },
    {
     "data": {
      "image/png": "[encoded data removed]",
      "text/plain": [
       "<Figure size 800x500 with 1 Axes>"
      ]
     },
     "metadata": {},
     "output_type": "display_data"
    },
    {
     "name": "stdout",
     "output_type": "stream",
     "text": [
      " User  Hits@5                                                                                                                                                                                                                                                                                                                                                                                                                                                                                                                                                                                                                                                                                                                                                                                                                                                                                                                                                                                                                                              Recommended                          Relevant\n",
      "    9       0 [{'item_code': 'has_irrigation_upgrade_rebate', 'item': 'Irrigation Upgrade Rebate', 'score': '7.50', 'reasons': ['Good match based on participation history (SVD)', 'Popular in your city (Mountain View)', 'Popular for your site type (MFD)', 'Correlates with 'WBIC Rebate'', 'Correlates with 'Irrigation Upgrade Rebate'']}, {'item_code': 'has_rainwater_capture_rebate', 'item': 'Rainwater Capture Rebate', 'score': '1.00', 'reasons': ['Good match based on participation history (SVD)']}, {'item_code': 'has_drip_conversion_rebate', 'item': 'Drip Conversion Rebate', 'score': '0.99', 'reasons': ['Good match based on participation history (SVD)']}, {'item_code': 'has_landscape_conversion_rebate', 'item': 'Landscape Conversion Rebate', 'score': '0.50', 'reasons': ['Good match based on participation history (SVD)', 'Popular in your city (Mountain View)', 'Popular for your site type (MFD)', 'Conflicts with 'WBIC Rebate' (negative correlation)', 'Conflicts with 'Irrigation Upgrade Rebate' (negative correlation)']}]   [has_irrigation_upgrade_rebate]\n",
      "   12       0                           [{'item_code': 'has_landscape_conversion_rebate', 'item': 'Landscape Conversion Rebate', 'score': '4.00', 'reasons': ['Good match based on participation history (SVD)', 'Popular in your city (Morgan Hill)', 'Popular for your site type (Single Family)', 'Conflicts with 'WBIC Rebate' (negative correlation)', 'Correlates with 'Landscape Conversion Rebate'']}, {'item_code': 'has_irrigation_upgrade_rebate', 'item': 'Irrigation Upgrade Rebate', 'score': '3.00', 'reasons': ['Good match based on participation history (SVD)', 'Popular in your city (Morgan Hill)', 'Correlates with 'WBIC Rebate'', 'Conflicts with 'Landscape Conversion Rebate' (negative correlation)']}, {'item_code': 'has_rainwater_capture_rebate', 'item': 'Rainwater Capture Rebate', 'score': '1.00', 'reasons': ['Good match based on participation history (SVD)']}, {'item_code': 'has_drip_conversion_rebate', 'item': 'Drip Conversion Rebate', 'score': '0.99', 'reasons': ['Good match based on participation history (SVD)']}] [has_landscape_conversion_rebate]\n",
      "   18       0                                                                                                                                                               [{'item_code': 'has_landscape_conversion_rebate', 'item': 'Landscape Conversion Rebate', 'score': '5.50', 'reasons': ['Good match based on participation history (SVD)', 'Popular in your city (San Jose)', 'Popular for your site type (MFD)', 'Correlates with 'Landscape Conversion Rebate'']}, {'item_code': 'has_wbic_rebate', 'item': 'WBIC Rebate', 'score': '1.00', 'reasons': ['Good match based on participation history (SVD)', 'Popular in your city (San Jose)', 'Conflicts with 'Landscape Conversion Rebate' (negative correlation)']}, {'item_code': 'has_drip_conversion_rebate', 'item': 'Drip Conversion Rebate', 'score': '0.99', 'reasons': ['Good match based on participation history (SVD)']}, {'item_code': 'has_rainwater_capture_rebate', 'item': 'Rainwater Capture Rebate', 'score': '0.98', 'reasons': ['Good match based on participation history (SVD)']}] [has_landscape_conversion_rebate]\n",
      "   20       0                               [{'item_code': 'has_landscape_conversion_rebate', 'item': 'Landscape Conversion Rebate', 'score': '4.00', 'reasons': ['Good match based on participation history (SVD)', 'Popular in your city (Palo Alto)', 'Popular for your site type (Single Family)', 'Conflicts with 'WBIC Rebate' (negative correlation)', 'Correlates with 'Landscape Conversion Rebate'']}, {'item_code': 'has_irrigation_upgrade_rebate', 'item': 'Irrigation Upgrade Rebate', 'score': '3.00', 'reasons': ['Good match based on participation history (SVD)', 'Popular in your city (Palo Alto)', 'Correlates with 'WBIC Rebate'', 'Conflicts with 'Landscape Conversion Rebate' (negative correlation)']}, {'item_code': 'has_rainwater_capture_rebate', 'item': 'Rainwater Capture Rebate', 'score': '1.00', 'reasons': ['Good match based on participation history (SVD)']}, {'item_code': 'has_drip_conversion_rebate', 'item': 'Drip Conversion Rebate', 'score': '1.00', 'reasons': ['Good match based on participation history (SVD)']}] [has_landscape_conversion_rebate]\n",
      "   24       0                                                                                                                                                                                                                                                                                                                                                                                                                                                                                                                                                                                                                                                                                                                     [{'item_code': 'has_rainwater_capture_rebate', 'item': 'Rainwater Capture Rebate', 'score': '1.00', 'reasons': ['Good match based on participation history (SVD)']}, {'item_code': 'has_drip_conversion_rebate', 'item': 'Drip Conversion Rebate', 'score': '1.00', 'reasons': ['Good match based on participation history (SVD)']}] [has_landscape_conversion_rebate]\n",
      "   28       0                                 [{'item_code': 'has_landscape_conversion_rebate', 'item': 'Landscape Conversion Rebate', 'score': '4.00', 'reasons': ['Good match based on participation history (SVD)', 'Popular in your city (Mountain View)', 'Popular for your site type (MFD)', 'Correlates with 'Landscape Conversion Rebate'', 'Conflicts with 'Irrigation Upgrade Rebate' (negative correlation)']}, {'item_code': 'has_wbic_rebate', 'item': 'WBIC Rebate', 'score': '3.00', 'reasons': ['Good match based on participation history (SVD)', 'Popular in your city (Mountain View)', 'Conflicts with 'Landscape Conversion Rebate' (negative correlation)', 'Correlates with 'Irrigation Upgrade Rebate'']}, {'item_code': 'has_rainwater_capture_rebate', 'item': 'Rainwater Capture Rebate', 'score': '1.00', 'reasons': ['Good match based on participation history (SVD)']}, {'item_code': 'has_drip_conversion_rebate', 'item': 'Drip Conversion Rebate', 'score': '1.00', 'reasons': ['Good match based on participation history (SVD)']}] [has_landscape_conversion_rebate]\n",
      "   29       0                                                                                                                             [{'item_code': 'has_wbic_rebate', 'item': 'WBIC Rebate', 'score': '2.00', 'reasons': ['Good match based on participation history (SVD)', 'Popular in your city (Santa Clara)', 'Popular for your site type (Single Family)', 'Conflicts with 'Landscape Conversion Rebate' (negative correlation)']}, {'item_code': 'has_rainwater_capture_rebate', 'item': 'Rainwater Capture Rebate', 'score': '1.00', 'reasons': ['Good match based on participation history (SVD)']}, {'item_code': 'has_irrigation_upgrade_rebate', 'item': 'Irrigation Upgrade Rebate', 'score': '1.00', 'reasons': ['Good match based on participation history (SVD)', 'Popular in your city (Santa Clara)', 'Conflicts with 'Landscape Conversion Rebate' (negative correlation)']}, {'item_code': 'has_drip_conversion_rebate', 'item': 'Drip Conversion Rebate', 'score': '1.00', 'reasons': ['Good match based on participation history (SVD)']}] [has_landscape_conversion_rebate]\n",
      "   39       0                       [{'item_code': 'has_landscape_conversion_rebate', 'item': 'Landscape Conversion Rebate', 'score': '4.00', 'reasons': ['Good match based on participation history (SVD)', 'Popular in your city (Mountain View)', 'Popular for your site type (Single Family)', 'Conflicts with 'WBIC Rebate' (negative correlation)', 'Correlates with 'Landscape Conversion Rebate'']}, {'item_code': 'has_irrigation_upgrade_rebate', 'item': 'Irrigation Upgrade Rebate', 'score': '3.00', 'reasons': ['Good match based on participation history (SVD)', 'Popular in your city (Mountain View)', 'Correlates with 'WBIC Rebate'', 'Conflicts with 'Landscape Conversion Rebate' (negative correlation)']}, {'item_code': 'has_drip_conversion_rebate', 'item': 'Drip Conversion Rebate', 'score': '1.00', 'reasons': ['Good match based on participation history (SVD)']}, {'item_code': 'has_rainwater_capture_rebate', 'item': 'Rainwater Capture Rebate', 'score': '0.94', 'reasons': ['Good match based on participation history (SVD)']}] [has_landscape_conversion_rebate]\n",
      "   58       0                                                                                                                                                                                                                                                                            [{'item_code': 'has_landscape_conversion_rebate', 'item': 'Landscape Conversion Rebate', 'score': '2.50', 'reasons': ['Good match based on participation history (SVD)', 'Popular in your city (Sunnyvale)', 'Popular for your site type (Single Family)', 'Conflicts with 'WBIC Rebate' (negative correlation)', 'Conflicts with 'Irrigation Upgrade Rebate' (negative correlation)', 'Correlates with 'Landscape Conversion Rebate'']}, {'item_code': 'has_drip_conversion_rebate', 'item': 'Drip Conversion Rebate', 'score': '0.99', 'reasons': ['Good match based on participation history (SVD)']}, {'item_code': 'has_rainwater_capture_rebate', 'item': 'Rainwater Capture Rebate', 'score': '0.96', 'reasons': ['Good match based on participation history (SVD)']}] [has_landscape_conversion_rebate]\n",
      "   59       0                                 [{'item_code': 'has_landscape_conversion_rebate', 'item': 'Landscape Conversion Rebate', 'score': '4.00', 'reasons': ['Good match based on participation history (SVD)', 'Popular in your city (San Jose)', 'Popular for your site type (Single Family)', 'Conflicts with 'WBIC Rebate' (negative correlation)', 'Correlates with 'Landscape Conversion Rebate'']}, {'item_code': 'has_irrigation_upgrade_rebate', 'item': 'Irrigation Upgrade Rebate', 'score': '3.00', 'reasons': ['Good match based on participation history (SVD)', 'Popular in your city (San Jose)', 'Correlates with 'WBIC Rebate'', 'Conflicts with 'Landscape Conversion Rebate' (negative correlation)']}, {'item_code': 'has_drip_conversion_rebate', 'item': 'Drip Conversion Rebate', 'score': '1.00', 'reasons': ['Good match based on participation history (SVD)']}, {'item_code': 'has_rainwater_capture_rebate', 'item': 'Rainwater Capture Rebate', 'score': '1.00', 'reasons': ['Good match based on participation history (SVD)']}] [has_landscape_conversion_rebate]\n"
     ]
    },
    {
     "name": "stdout",
     "output_type": "stream",
     "text": [
      "Best hybrid boost params (city, site, corr): (0.5, 0.5, 1.0) with score=1.140\n"
     ]
    }
   ],
   "source": [
    "from collections import defaultdict\n",
    "print(\"\\n--- Evaluating SVD, Baseline, and Hybrid Models ---\")\n",
    "\n",
    "# --- Pre-computation for Hybrid Model Re-ranking ---\n",
    "rebate_cols = [col for col in df.columns if col.startswith('has_') or col == 'participated_in_graywater']\n",
    "\n",
    "# 1. Popularity by City\n",
    "city_popularity = df.groupby('City')[rebate_cols].sum()\n",
    "\n",
    "# 2. Popularity by Site Type\n",
    "site_type_popularity = df.groupby('Site Type')[rebate_cols].sum()\n",
    "\n",
    "# 3. Rebate Correlations\n",
    "correlation_matrix = df[rebate_cols].corr()\n",
    "\n",
    "\n",
    "# --- Evaluation Functions ---\n",
    "results = []\n",
    "k_values = [3, 4, 5]\n",
    "\n",
    "def get_top_n(predictions, n=5):\n",
    "    top_n = defaultdict(list)\n",
    "    for uid, iid, true_r, est, _ in predictions:\n",
    "        top_n[uid].append((iid, est))\n",
    "    for uid, user_ratings in top_n.items():\n",
    "        user_ratings.sort(key=lambda x: x[1], reverse=True)\n",
    "        top_n[uid] = user_ratings[:n] # Keep scores for hybrid model\n",
    "    return top_n\n",
    "\n",
    "def precision_recall_at_k(predictions, actual, k):\n",
    "    precisions = []\n",
    "    recalls = []\n",
    "    for user, recs in predictions.items():\n",
    "        if user not in actual:\n",
    "            continue\n",
    "        # Ensure recs are just item IDs\n",
    "        recs_items = [r[0] if isinstance(r, tuple) else r for r in recs]\n",
    "        relevant = actual[user]\n",
    "        recommended = set(recs_items)\n",
    "        n_rel = len(relevant)\n",
    "        n_rec_k = len(recommended)\n",
    "        n_rel_and_rec_k = len(recommended & relevant)\n",
    "        precisions.append(n_rel_and_rec_k / n_rec_k if n_rec_k else 0)\n",
    "        recalls.append(n_rel_and_rec_k / n_rel if n_rel else 0)\n",
    "    return np.mean(precisions), np.mean(recalls)\n",
    "\n",
    "\n",
    "# --- Hybrid Model Logic ---\n",
    "def get_hybrid_recommendations(svd_top_n, user_data):\n",
    "    hybrid_recs = []\n",
    "    user_city = user_data['City'].iloc[0]\n",
    "    user_site_type = user_data['Site Type'].iloc[0]\n",
    "    user_rebates_series = user_data[rebate_cols].iloc[0]\n",
    "    user_rebates = set(user_rebates_series[user_rebates_series == 1].index)\n",
    "\n",
    "    top_city_rebates = set(city_popularity.loc[user_city].nlargest(3).index) if user_city in city_popularity.index else set()\n",
    "    top_site_type_rebates = set(site_type_popularity.loc[user_site_type].nlargest(2).index) if user_site_type in site_type_popularity.index else set()\n",
    "\n",
    "    for item, svd_score in svd_top_n:\n",
    "        hybrid_score = svd_score\n",
    "        reasons = [\"Good match based on participation history (SVD)\"]\n",
    "        \n",
    "        if item in top_city_rebates:\n",
    "            hybrid_score += 1.5\n",
    "            reasons.append(f\"Popular in your city ({user_city})\")\n",
    "        if item in top_site_type_rebates:\n",
    "            hybrid_score += 1.0\n",
    "            reasons.append(f\"Popular for your site type ({user_site_type})\")\n",
    "        for existing_rebate in user_rebates:\n",
    "            correlation = correlation_matrix.loc[existing_rebate, item]\n",
    "            if correlation > 0.5:\n",
    "                hybrid_score += 2.0\n",
    "                reasons.append(f\"Correlates with '{rebate_name_map[existing_rebate]}'\")\n",
    "            elif correlation < -0.3:\n",
    "                hybrid_score -= 1.5\n",
    "                reasons.append(f\"Conflicts with '{rebate_name_map[existing_rebate]}' (negative correlation)\")\n",
    "        \n",
    "        hybrid_recs.append({'item_code': item, 'item': rebate_name_map[item], 'score': f\"{hybrid_score:.2f}\", 'reasons': reasons})\n",
    "\n",
    "    hybrid_recs.sort(key=lambda x: x['score'], reverse=True)\n",
    "    return hybrid_recs\n",
    "\n",
    "\n",
    "# --- Run Evaluation Loop ---\n",
    "anti_testset = trainset.build_anti_testset()\n",
    "svd_predictions = svd_model.test(anti_testset)\n",
    "test_actual = test_df.groupby('Site ID')['item'].apply(set).to_dict()\n",
    "\n",
    "# Get SVD top N with scores\n",
    "svd_top_n_with_scores = get_top_n(svd_predictions, n=10) # Get more candidates for re-ranking\n",
    "\n",
    "for k in k_values:\n",
    "    # Model 1: SVD\n",
    "    svd_top_n_k = {u: [item for item, score in recs[:k]] for u, recs in svd_top_n_with_scores.items()}\n",
    "    svd_precision, svd_recall = precision_recall_at_k(svd_top_n_k, test_actual, k)\n",
    "    results.append({'Model': 'SVD', 'k': k, 'Precision@k': svd_precision, 'Recall@k': svd_recall})\n",
    "\n",
    "    # Model 2: Baseline\n",
    "    baseline_top_n = defaultdict(list)\n",
    "    for user in test_actual.keys():\n",
    "        user_data = df[df['Site ID'] == user].iloc[-1]\n",
    "        recs = get_recommendations(user_data, n=k)\n",
    "        baseline_top_n[user] = [r['item_code'] for r in recs] # Use internal code for evaluation\n",
    "    baseline_precision, baseline_recall = precision_recall_at_k(baseline_top_n, test_actual, k)\n",
    "    results.append({'Model': 'Baseline', 'k': k, 'Precision@k': baseline_precision, 'Recall@k': baseline_recall})\n",
    "\n",
    "    # Model 3: Hybrid with fallback\n",
    "    hybrid_top_n = defaultdict(list)\n",
    "    for user in test_actual.keys():\n",
    "        user_data = df[df['Site ID'] == user]\n",
    "        if not user_data.empty and user in svd_top_n_with_scores:\n",
    "            hybrid_recs = get_hybrid_recommendations(svd_top_n_with_scores[user], user_data)\n",
    "            hybrid_top_n[user] = [rec['item_code'] for rec in hybrid_recs[:k]]\n",
    "        else:\n",
    "            try:\n",
    "                fallback_user_data = user_data.iloc[-1] if not user_data.empty else None\n",
    "                if fallback_user_data is not None:\n",
    "                    recs = get_recommendations(fallback_user_data, n=k)\n",
    "                    hybrid_top_n[user] = [r['item_code'] for r in recs]\n",
    "            except Exception as e:\n",
    "                print(f\"[Warning] Could not generate fallback recommendations for user {user}: {e}\")\n",
    "    hybrid_precision, hybrid_recall = precision_recall_at_k(hybrid_top_n, test_actual, k)\n",
    "    results.append({'Model': 'Hybrid', 'k': k, 'Precision@k': hybrid_precision, 'Recall@k': hybrid_recall})\n",
    "\n",
    "\n",
    "# --- Display Results ---\n",
    "import pandas as pd\n",
    "results_df = pd.DataFrame(results).sort_values(by=['k', 'Model'])\n",
    "print(results_df.to_string(index=False))\n",
    "\n",
    "# --- Visualization: Precision & Recall Plots ---\n",
    "import matplotlib.pyplot as plt\n",
    "plt.figure(figsize=(8,5))\n",
    "for model in results_df['Model'].unique():\n",
    "    subset = results_df[results_df['Model'] == model]\n",
    "    plt.plot(subset['k'], subset['Precision@k'], marker='o', label=f'{model} Precision')\n",
    "    plt.plot(subset['k'], subset['Recall@k'], marker='x', linestyle='--', label=f'{model} Recall')\n",
    "plt.xlabel('k')\n",
    "plt.ylabel('Score')\n",
    "plt.title('Precision@k and Recall@k by Model')\n",
    "plt.legend()\n",
    "plt.grid(True)\n",
    "plt.show()\n",
    "\n",
    "# --- Per-User Breakdown (Hybrid Model, k=5) ---\n",
    "hybrid_top_n = defaultdict(list)\n",
    "for user in test_actual.keys():\n",
    "    user_data = df[df['Site ID'] == user]\n",
    "    if not user_data.empty and user in svd_top_n_with_scores:\n",
    "        hybrid_recs = get_hybrid_recommendations(svd_top_n_with_scores[user], user_data)\n",
    "        hybrid_top_n[user] = hybrid_recs[:5] # Keep full dictionaries\n",
    "    else:\n",
    "        try:\n",
    "            fallback_user_data = user_data.iloc[-1] if not user_data.empty else None\n",
    "            if fallback_user_data is not None:\n",
    "                recs = get_recommendations(fallback_user_data, n=5)\n",
    "                hybrid_top_n[user] = recs\n",
    "        except Exception as e:\n",
    "            print(f\"[Warning] Could not generate fallback recommendations for user {user}: {e}\")\n",
    "user_results = []\n",
    "for user, recs in hybrid_top_n.items():\n",
    "    relevant = test_actual.get(user, set())\n",
    "    hits = len(set([r['item'] for r in recs]) & relevant)\n",
    "    user_results.append({'User': user, 'Hits@5': hits, 'Recommended': recs, 'Relevant': list(relevant)})\n",
    "user_results_df = pd.DataFrame(user_results)\n",
    "print(user_results_df.head(10).to_string(index=False))\n",
    "\n",
    "# --- Hybrid Boost Parameter Tuning Cell ---\n",
    "# Try different boost weights for city, site type, and correlation\n",
    "city_weights = [0.5, 1.0, 1.5, 2.0]\n",
    "site_type_weights = [0.5, 1.0, 1.5]\n",
    "correlation_weights = [1.0, 2.0, 3.0]\n",
    "best_score = 0\n",
    "best_params = None\n",
    "for city_w in city_weights:\n",
    "    for site_w in site_type_weights:\n",
    "        for corr_w in correlation_weights:\n",
    "            def get_hybrid_recommendations_tuned(svd_top_n, user_data):\n",
    "                hybrid_recs = []\n",
    "                user_city = user_data['City'].iloc[0]\n",
    "                user_site_type = user_data['Site Type'].iloc[0]\n",
    "                user_rebates_series = user_data[rebate_cols].iloc[0]\n",
    "                user_rebates = set(user_rebates_series[user_rebates_series == 1].index)\n",
    "                top_city_rebates = set(city_popularity.loc[user_city].nlargest(3).index) if user_city in city_popularity.index else set()\n",
    "                top_site_type_rebates = set(site_type_popularity.loc[user_site_type].nlargest(2).index) if user_site_type in site_type_popularity.index else set()\n",
    "                for item, svd_score in svd_top_n:\n",
    "                    hybrid_score = svd_score\n",
    "                    if item in top_city_rebates:\n",
    "                        hybrid_score += city_w\n",
    "                    if item in top_site_type_rebates:\n",
    "                        hybrid_score += site_w\n",
    "                    for existing_rebate in user_rebates:\n",
    "                        correlation = correlation_matrix.loc[existing_rebate, item]\n",
    "                        if correlation > 0.5:\n",
    "                            hybrid_score += corr_w\n",
    "                        elif correlation < -0.3:\n",
    "                            hybrid_score -= corr_w * 0.75  # Penalty for negative correlation\n",
    "                    hybrid_recs.append((item, hybrid_score))\n",
    "                hybrid_recs.sort(key=lambda x: x[1], reverse=True)\n",
    "                return hybrid_recs\n",
    "            hybrid_top_n_tuned = defaultdict(list)\n",
    "            for user, recs in svd_top_n_with_scores.items():\n",
    "                user_data = df[df['Site ID'] == user]\n",
    "                if not user_data.empty:\n",
    "                    hybrid_recs = get_hybrid_recommendations_tuned(recs, user_data)\n",
    "                    hybrid_top_n_tuned[user] = [item for item, score in hybrid_recs[:5]]\n",
    "            hybrid_precision, hybrid_recall = precision_recall_at_k(hybrid_top_n_tuned, test_actual, 5)\n",
    "            score = hybrid_precision + hybrid_recall\n",
    "            if score > best_score:\n",
    "                best_score = score\n",
    "                best_params = (city_w, site_w, corr_w)\n",
    "print(f\"Best hybrid boost params (city, site, corr): {best_params} with score={best_score:.3f}\")\n"
   ]
  },
  {
   "cell_type": "markdown",
   "id": "0caa8483",
   "metadata": {},
   "source": [
    "# Phase 5: Interpreting Model Behavior: Latent Feature Analysis\n",
    "**Objective:** While SVD is a powerful prediction algorithm, its internal \"latent features\" are mathematical abstractions and not directly interpretable. However, we can gain insight into the model's logic by visualizing how it groups different rebate programs.\n",
    "\n",
    "This analysis extracts the latent feature vectors for each rebate from the trained SVD model and uses Principal Component Analysis (PCA) to plot them in two dimensions. Rebates that are close together in this plot are seen as \"similar\" by the model, meaning they are often adopted by similar groups of users. This helps us understand the underlying patterns the model has learned."
   ]
  },
  {
   "cell_type": "code",
   "execution_count": 19,
   "id": "9c374666",
   "metadata": {
    "execution": {
     "iopub.execute_input": "2025-07-29T02:46:40.103943Z",
     "iopub.status.busy": "2025-07-29T02:46:40.103699Z",
     "iopub.status.idle": "2025-07-29T02:46:40.193961Z",
     "shell.execute_reply": "2025-07-29T02:46:40.193606Z"
    }
   },
   "outputs": [
    {
     "name": "stdout",
     "output_type": "stream",
     "text": [
      "\n",
      "--- Visualizing SVD Latent Features for Rebates ---\n"
     ]
    },
    {
     "data": {
      "image/png": "[encoded data removed]",
      "text/plain": [
       "<Figure size 1400x1000 with 1 Axes>"
      ]
     },
     "metadata": {},
     "output_type": "display_data"
    },
    {
     "name": "stdout",
     "output_type": "stream",
     "text": [
      "\n",
      "--- Detailed Rebate Positioning Table ---\n",
      "             Rebate Program                   Internal Name  Principal Component 1  Principal Component 2\n",
      "     Drip Conversion Rebate      has_drip_conversion_rebate                -0.1063                -0.0663\n",
      "                Wbic Rebate                 has_wbic_rebate                -0.0865                 0.0231\n",
      "  Irrigation Upgrade Rebate   has_irrigation_upgrade_rebate                -0.0865                 0.0231\n",
      "Landscape Conversion Rebate has_landscape_conversion_rebate                -0.0865                 0.0231\n",
      "   Rainwater Capture Rebate    has_rainwater_capture_rebate                 0.3658                -0.0029\n",
      "\n",
      "--- Distance Matrix Between Rebates ---\n",
      "Distance matrix (smaller values = more similar):\n",
      "                      Wbic Rebate  Landscape Conversion  Irrigation Upgrade R  Rainwater Capture Re  Drip Conversion Reba\n",
      "Wbic Rebate                 0.000                 0.000                 0.000                 0.453                 0.092\n",
      "Landscape Conversion        0.000                 0.000                 0.000                 0.453                 0.092\n",
      "Irrigation Upgrade R        0.000                 0.000                 0.000                 0.453                 0.092\n",
      "Rainwater Capture Re        0.453                 0.453                 0.453                 0.000                 0.476\n",
      "Drip Conversion Reba        0.092                 0.092                 0.092                 0.476                 0.000\n",
      "\n",
      "--- Closest Rebate Pairs ---\n",
      "Top 5 most similar rebate pairs:\n",
      "1. Landscape Conversion Rebate <-> Irrigation Upgrade Rebate (distance: 0.0000)\n",
      "2. WBIC Rebate <-> Landscape Conversion Rebate (distance: 0.0000)\n",
      "3. WBIC Rebate <-> Irrigation Upgrade Rebate (distance: 0.0000)\n",
      "4. Irrigation Upgrade Rebate <-> Drip Conversion Rebate (distance: 0.0916)\n",
      "5. Landscape Conversion Rebate <-> Drip Conversion Rebate (distance: 0.0916)\n"
     ]
    }
   ],
   "source": [
    "\n",
    "print(\"\\n--- Visualizing SVD Latent Features for Rebates ---\")\n",
    "\n",
    "# 1. Extract item (rebate) latent factors from the trained SVD model\n",
    "# The 'qi' attribute holds the latent feature vectors for all items in the trainset.\n",
    "# Use the 'svd_model' variable which holds the final trained model\n",
    "rebate_factors = svd_model.qi\n",
    "\n",
    "# 2. Map internal IDs back to human-readable rebate names\n",
    "# The model uses internal, sequential IDs. We need to map them back to our original rebate column names.\n",
    "raw_to_inner_iid_map = svd_model.trainset._raw2inner_id_items\n",
    "rebate_names = list(raw_to_inner_iid_map.keys())\n",
    "\n",
    "# 3. Use PCA to reduce the dimensionality of the latent features to 2D for plotting\n",
    "pca = PCA(n_components=2)\n",
    "rebate_factors_2d = pca.fit_transform(rebate_factors)\n",
    "\n",
    "# 4. Create the visualization\n",
    "plt.figure(figsize=(14, 10))\n",
    "plt.scatter(rebate_factors_2d[:, 0], rebate_factors_2d[:, 1], alpha=0.7, c='blue')\n",
    "\n",
    "# Add labels for each point\n",
    "for i, name in enumerate(rebate_names):\n",
    "    # Use the human-readable name from our map\n",
    "    readable_name = rebate_name_map.get(name, name).replace('has_', '').replace('_', ' ').title()\n",
    "    plt.text(rebate_factors_2d[i, 0], rebate_factors_2d[i, 1], ' ' + readable_name, fontsize=9)\n",
    "\n",
    "plt.title('Rebate Program Clusters based on SVD Latent Features', fontsize=16)\n",
    "plt.xlabel('Principal Component 1', fontsize=12)\n",
    "plt.ylabel('Principal Component 2', fontsize=12)\n",
    "plt.grid(True)\n",
    "plt.tight_layout()\n",
    "plt.show()\n",
    "\n",
    "# 5. Create a detailed table showing exact coordinates\n",
    "print(\"\\n--- Detailed Rebate Positioning Table ---\")\n",
    "coordinates_df = pd.DataFrame({\n",
    "    'Rebate Program': [rebate_name_map.get(name, name).replace('has_', '').replace('_', ' ').title() for name in rebate_names],\n",
    "    'Internal Name': rebate_names,\n",
    "    'Principal Component 1': rebate_factors_2d[:, 0],\n",
    "    'Principal Component 2': rebate_factors_2d[:, 1]\n",
    "})\n",
    "\n",
    "# Sort by PC1 for easier reading\n",
    "coordinates_df = coordinates_df.sort_values('Principal Component 1')\n",
    "print(coordinates_df.to_string(index=False, float_format='%.4f'))\n",
    "\n",
    "# 6. Calculate and display distance matrix\n",
    "print(\"\\n--- Distance Matrix Between Rebates ---\")\n",
    "# Calculate pairwise distances\n",
    "distances = pdist(rebate_factors_2d, metric='euclidean')\n",
    "distance_matrix = squareform(distances)\n",
    "\n",
    "# Create readable labels\n",
    "readable_names = [rebate_name_map.get(name, name).replace('has_', '').replace('_', ' ').title()[:20] for name in rebate_names]\n",
    "distance_df = pd.DataFrame(distance_matrix, index=readable_names, columns=readable_names)\n",
    "\n",
    "print(\"Distance matrix (smaller values = more similar):\")\n",
    "print(distance_df.round(3).to_string())\n",
    "\n",
    "# 7. Identify closest pairs\n",
    "print(\"\\n--- Closest Rebate Pairs ---\")\n",
    "closest_pairs = []\n",
    "for i in range(len(rebate_names)):\n",
    "    for j in range(i+1, len(rebate_names)):\n",
    "        distance = distance_matrix[i, j]\n",
    "        pair_info = {\n",
    "            'rebate_1': rebate_name_map.get(rebate_names[i], rebate_names[i]),\n",
    "            'rebate_2': rebate_name_map.get(rebate_names[j], rebate_names[j]),\n",
    "            'distance': distance\n",
    "        }\n",
    "        closest_pairs.append(pair_info)\n",
    "\n",
    "# Sort by distance (closest first)\n",
    "closest_pairs.sort(key=lambda x: x['distance'])\n",
    "\n",
    "print(\"Top 5 most similar rebate pairs:\")\n",
    "for i, pair in enumerate(closest_pairs[:5], 1):\n",
    "    print(f\"{i}. {pair['rebate_1']} <-> {pair['rebate_2']} (distance: {pair['distance']:.4f})\")\n"
   ]
  },
  {
   "cell_type": "markdown",
   "id": "0bf51661",
   "metadata": {},
   "source": [
    "## 7. Geocoding and City Coordinates Generation"
   ]
  },
  {
   "cell_type": "code",
   "execution_count": 20,
   "id": "63bb6da9",
   "metadata": {
    "execution": {
     "iopub.execute_input": "2025-07-29T02:46:40.195599Z",
     "iopub.status.busy": "2025-07-29T02:46:40.195479Z",
     "iopub.status.idle": "2025-07-29T02:47:01.545669Z",
     "shell.execute_reply": "2025-07-29T02:47:01.545082Z"
    }
   },
   "outputs": [
    {
     "name": "stdout",
     "output_type": "stream",
     "text": [
      "=== GEOCODING CITY COORDINATES ===\n",
      "Generating coordinates for all cities in the dataset...\n",
      "Found 17 unique cities to geocode\n",
      "Geocoding 1/17: Milpitas\n"
     ]
    },
    {
     "name": "stdout",
     "output_type": "stream",
     "text": [
      "  Success: 37.4344, -121.8907\n",
      "Geocoding 2/17: San Jose\n"
     ]
    },
    {
     "name": "stdout",
     "output_type": "stream",
     "text": [
      "  Success: 37.2159, -121.8625\n",
      "Geocoding 3/17: Cupertino\n"
     ]
    },
    {
     "name": "stdout",
     "output_type": "stream",
     "text": [
      "  Success: 37.3178, -122.0372\n",
      "Geocoding 4/17: Mountain View\n"
     ]
    },
    {
     "name": "stdout",
     "output_type": "stream",
     "text": [
      "  Success: 37.3819, -122.0821\n",
      "Geocoding 5/17: Los Altos Hills\n"
     ]
    },
    {
     "name": "stdout",
     "output_type": "stream",
     "text": [
      "  Success: 37.3845, -122.1124\n",
      "Geocoding 6/17: Palo Alto\n"
     ]
    },
    {
     "name": "stdout",
     "output_type": "stream",
     "text": [
      "  Success: 37.4222, -122.1351\n",
      "Geocoding 7/17: Sunnyvale\n"
     ]
    },
    {
     "name": "stdout",
     "output_type": "stream",
     "text": [
      "  Success: 37.3578, -122.0391\n",
      "Geocoding 8/17: Stanford\n"
     ]
    },
    {
     "name": "stdout",
     "output_type": "stream",
     "text": [
      "  Success: 37.4262, -122.1645\n",
      "Geocoding 9/17: Los Gatos\n"
     ]
    },
    {
     "name": "stdout",
     "output_type": "stream",
     "text": [
      "  Success: 37.2440, -121.9492\n",
      "Geocoding 10/17: Saratoga\n"
     ]
    },
    {
     "name": "stdout",
     "output_type": "stream",
     "text": [
      "  Success: 37.2772, -122.0045\n",
      "Geocoding 11/17: Campbell\n"
     ]
    },
    {
     "name": "stdout",
     "output_type": "stream",
     "text": [
      "  Success: 37.2793, -121.9534\n",
      "Geocoding 12/17: Morgan Hill\n"
     ]
    },
    {
     "name": "stdout",
     "output_type": "stream",
     "text": [
      "  Success: 37.1359, -121.6676\n",
      "Geocoding 13/17: Gilroy\n"
     ]
    },
    {
     "name": "stdout",
     "output_type": "stream",
     "text": [
      "  Success: 37.0103, -121.5742\n",
      "Geocoding 14/17: Santa Clara\n"
     ]
    },
    {
     "name": "stdout",
     "output_type": "stream",
     "text": [
      "  Success: 37.3490, -121.9844\n",
      "Geocoding 15/17: Los Altos\n"
     ]
    },
    {
     "name": "stdout",
     "output_type": "stream",
     "text": [
      "  Success: 37.3569, -122.0860\n",
      "Geocoding 16/17: Monte Sereno\n"
     ]
    },
    {
     "name": "stdout",
     "output_type": "stream",
     "text": [
      "  Success: 37.2274, -121.9814\n",
      "Geocoding 17/17: San Martin\n"
     ]
    },
    {
     "name": "stdout",
     "output_type": "stream",
     "text": [
      "  Success: 37.0857, -121.6060\n",
      "\n",
      "Successfully geocoded 17 out of 17 cities\n",
      "Failed geocodes: []\n",
      "\n",
      "Saved city coordinates to 'city_coordinates.csv'\n",
      "              city   latitude   longitude zip_code\n",
      "0         Milpitas  37.434382 -121.890680    95035\n",
      "1         San Jose  37.215887 -121.862545    95120\n",
      "2        Cupertino  37.317771 -122.037174    95014\n",
      "3    Mountain View  37.381912 -122.082065    94040\n",
      "4  Los Altos Hills  37.384515 -122.112387    94022\n"
     ]
    }
   ],
   "source": [
    "\n",
    "# Generate city coordinates for dashboard mapping\n",
    "print(\"=== GEOCODING CITY COORDINATES ===\")\n",
    "print(\"Generating coordinates for all cities in the dataset...\")\n",
    "\n",
    "def geocode_location(city_name, zip_code=None, retries=3):\n",
    "    # Geocode a city name or zip code to latitude/longitude coordinates\n",
    "    geolocator = Nominatim(user_agent=\"valley_water_rebates_v1.0\")\n",
    "    \n",
    "    # Try zip code first if available\n",
    "    if zip_code and str(zip_code) != 'nan' and str(zip_code) != '00nan':\n",
    "        query = f\"{zip_code}, CA, USA\"\n",
    "    else:\n",
    "        query = f\"{city_name}, CA, USA\"\n",
    "    \n",
    "    for attempt in range(retries):\n",
    "        try:\n",
    "            location = geolocator.geocode(query, timeout=10)\n",
    "            time.sleep(1.1)  # Rate limiting\n",
    "            \n",
    "            if location:\n",
    "                return (location.latitude, location.longitude)\n",
    "            else:\n",
    "                print(f\"No coordinates found for: {query}\")\n",
    "                return None\n",
    "                \n",
    "        except Exception as e:\n",
    "            print(f\"Geocoding attempt {attempt + 1} failed for {query}: {e}\")\n",
    "            if attempt < retries - 1:\n",
    "                time.sleep(2)  # Wait longer on error\n",
    "            else:\n",
    "                return None\n",
    "    \n",
    "    return None\n",
    "\n",
    "# Get unique cities from the cleaned data\n",
    "unique_cities = df_cleaned['City'].dropna().unique()\n",
    "print(f\"Found {len(unique_cities)} unique cities to geocode\")\n",
    "\n",
    "# Create city coordinates dataframe\n",
    "city_coords_data = []\n",
    "failed_geocodes = []\n",
    "\n",
    "for i, city in enumerate(unique_cities, 1):\n",
    "    print(f\"Geocoding {i}/{len(unique_cities)}: {city}\")\n",
    "    \n",
    "    # Try to get zip code for this city (use most common one)\n",
    "    city_zips = df_cleaned[df_cleaned['City'] == city]['Site Zip Code'].dropna()\n",
    "    zip_code = city_zips.mode().iloc[0] if len(city_zips) > 0 else None\n",
    "    \n",
    "    coords = geocode_location(city, zip_code)\n",
    "    \n",
    "    if coords:\n",
    "        city_coords_data.append({\n",
    "            'city': city,\n",
    "            'latitude': coords[0],\n",
    "            'longitude': coords[1],\n",
    "            'zip_code': zip_code\n",
    "        })\n",
    "        print(f\"  Success: {coords[0]:.4f}, {coords[1]:.4f}\")\n",
    "    else:\n",
    "        failed_geocodes.append(city)\n",
    "        print(f\"  Failed to geocode {city}\")\n",
    "\n",
    "# Create city coordinates DataFrame\n",
    "city_coordinates_df = pd.DataFrame(city_coords_data)\n",
    "print(f\"\\nSuccessfully geocoded {len(city_coordinates_df)} out of {len(unique_cities)} cities\")\n",
    "print(f\"Failed geocodes: {failed_geocodes}\")\n",
    "\n",
    "# Save city coordinates\n",
    "city_coordinates_df.to_csv('city_coordinates.csv', index=False)\n",
    "print(\"\\nSaved city coordinates to 'city_coordinates.csv'\")\n",
    "print(city_coordinates_df.head())\n"
   ]
  },
  {
   "cell_type": "markdown",
   "id": "d8ba2dcd",
   "metadata": {},
   "source": [
    "## 8. Analytics Data Preparation for Dashboard"
   ]
  },
  {
   "cell_type": "code",
   "execution_count": 21,
   "id": "a39307c8",
   "metadata": {
    "execution": {
     "iopub.execute_input": "2025-07-29T02:47:01.548344Z",
     "iopub.status.busy": "2025-07-29T02:47:01.548144Z",
     "iopub.status.idle": "2025-07-29T02:47:01.588917Z",
     "shell.execute_reply": "2025-07-29T02:47:01.588615Z"
    }
   },
   "outputs": [
    {
     "name": "stdout",
     "output_type": "stream",
     "text": [
      "=== ANALYTICS DATA PREPARATION ===\n",
      "Preparing pre-computed analytics for dashboard performance...\n",
      "\n",
      "1. Computing city-level rebate popularity...\n",
      "Computed popularity for 17 cities\n",
      "          city  total_rebates most_popular_rebate  most_popular_count  \\\n",
      "0     San Jose           6827                None                   0   \n",
      "1    Sunnyvale           1140                None                   0   \n",
      "2    Palo Alto           1105                None                   0   \n",
      "3  Santa Clara            911                None                   0   \n",
      "4    Cupertino            841                None                   0   \n",
      "\n",
      "   unique_customers  \n",
      "0              6310  \n",
      "1              1065  \n",
      "2              1023  \n",
      "3               846  \n",
      "4               761  \n",
      "\n",
      "2. Computing site type rebate popularity...\n",
      "Computed popularity for 5 site types\n",
      "       site_type  total_rebates most_popular_rebate  most_popular_count  \\\n",
      "0  Single Family          13735                None                   0   \n",
      "1            MFD            723                None                   0   \n",
      "2     Commercial            516                None                   0   \n",
      "3  Institutional            166                None                   0   \n",
      "4     Industrial             49                None                   0   \n",
      "\n",
      "   unique_customers  \n",
      "0             12784  \n",
      "1               602  \n",
      "2               452  \n",
      "3               155  \n",
      "4                39  \n",
      "\n",
      "3. Computing dashboard summary KPIs...\n",
      "Dashboard Summary KPIs:\n",
      "  total_customers: 14032\n",
      "  total_rebates: 15189\n",
      "  total_cities: 17\n",
      "  total_site_types: 5\n",
      "  avg_rebates_per_customer: 1.08\n",
      "  recent_customers_2024_plus: 139\n",
      "  recent_rebates_2024_plus: 139\n",
      "  data_last_updated: 2025-07-28 19:47:01\n"
     ]
    }
   ],
   "source": [
    "\n",
    "# Prepare analytics data for dashboard endpoints\n",
    "print(\"=== ANALYTICS DATA PREPARATION ===\")\n",
    "print(\"Preparing pre-computed analytics for dashboard performance...\")\n",
    "\n",
    "# Define rebate columns for analytics\n",
    "rebate_columns = [\n",
    "    'has_wbic_rebate', 'has_irrigation_upgrade_rebate', 'has_landscape_conversion_rebate',\n",
    "    'has_drip_conversion_rebate', 'has_rainwater_capture_rebate', 'participated_in_graywater'\n",
    "]\n",
    "\n",
    "# 1. City-level popularity statistics\n",
    "print(\"\\n1. Computing city-level rebate popularity...\")\n",
    "city_rebate_counts = df_cleaned.groupby('City').size().reset_index(name='total_rebates')\n",
    "city_rebate_counts = city_rebate_counts.sort_values('total_rebates', ascending=False)\n",
    "\n",
    "# Add city popularity by rebate type\n",
    "city_rebate_details = []\n",
    "for city in city_rebate_counts['City']:\n",
    "    city_data = df_cleaned[df_cleaned['City'] == city]\n",
    "    \n",
    "    # Count by rebate type\n",
    "    rebate_counts = {}\n",
    "    for col in rebate_columns:\n",
    "        if col in city_data.columns:\n",
    "            rebate_counts[col] = city_data[col].sum()\n",
    "    \n",
    "    # Find most popular rebate\n",
    "    most_popular = max(rebate_counts.items(), key=lambda x: x[1]) if rebate_counts else ('None', 0)\n",
    "    \n",
    "    city_rebate_details.append({\n",
    "        'city': city,\n",
    "        'total_rebates': len(city_data),\n",
    "        'most_popular_rebate': most_popular[0],\n",
    "        'most_popular_count': most_popular[1],\n",
    "        'unique_customers': city_data['Site ID'].nunique()\n",
    "    })\n",
    "\n",
    "city_popularity_df = pd.DataFrame(city_rebate_details)\n",
    "print(f\"Computed popularity for {len(city_popularity_df)} cities\")\n",
    "print(city_popularity_df.head())\n",
    "\n",
    "# 2. Site type popularity statistics\n",
    "print(\"\\n2. Computing site type rebate popularity...\")\n",
    "site_type_rebate_counts = df_cleaned.groupby('Site Type').size().reset_index(name='total_rebates')\n",
    "site_type_rebate_counts = site_type_rebate_counts.sort_values('total_rebates', ascending=False)\n",
    "\n",
    "site_type_details = []\n",
    "for site_type in site_type_rebate_counts['Site Type']:\n",
    "    site_data = df_cleaned[df_cleaned['Site Type'] == site_type]\n",
    "    \n",
    "    # Count by rebate type\n",
    "    rebate_counts = {}\n",
    "    for col in rebate_columns:\n",
    "        if col in site_data.columns:\n",
    "            rebate_counts[col] = site_data[col].sum()\n",
    "    \n",
    "    # Find most popular rebate\n",
    "    most_popular = max(rebate_counts.items(), key=lambda x: x[1]) if rebate_counts else ('None', 0)\n",
    "    \n",
    "    site_type_details.append({\n",
    "        'site_type': site_type,\n",
    "        'total_rebates': len(site_data),\n",
    "        'most_popular_rebate': most_popular[0],\n",
    "        'most_popular_count': most_popular[1],\n",
    "        'unique_customers': site_data['Site ID'].nunique()\n",
    "    })\n",
    "\n",
    "site_type_popularity_df = pd.DataFrame(site_type_details)\n",
    "print(f\"Computed popularity for {len(site_type_popularity_df)} site types\")\n",
    "print(site_type_popularity_df.head())\n",
    "\n",
    "# 3. Dashboard summary KPIs\n",
    "print(\"\\n3. Computing dashboard summary KPIs...\")\n",
    "total_customers = df_cleaned['Site ID'].nunique()\n",
    "total_rebates = len(df_cleaned)\n",
    "total_cities = df_cleaned['City'].nunique()\n",
    "total_site_types = df_cleaned['Site Type'].nunique()\n",
    "avg_rebates_per_customer = total_rebates / total_customers\n",
    "\n",
    "# Recent activity (2024-2025)\n",
    "recent_data = df_cleaned[df_cleaned['Request Date'] >= '2024-01-01']\n",
    "recent_customers = recent_data['Site ID'].nunique()\n",
    "recent_rebates = len(recent_data)\n",
    "\n",
    "dashboard_summary = {\n",
    "    'total_customers': total_customers,\n",
    "    'total_rebates': total_rebates,\n",
    "    'total_cities': total_cities,\n",
    "    'total_site_types': total_site_types,\n",
    "    'avg_rebates_per_customer': round(avg_rebates_per_customer, 2),\n",
    "    'recent_customers_2024_plus': recent_customers,\n",
    "    'recent_rebates_2024_plus': recent_rebates,\n",
    "    'data_last_updated': datetime.now().strftime('%Y-%m-%d %H:%M:%S')\n",
    "}\n",
    "\n",
    "print(\"Dashboard Summary KPIs:\")\n",
    "for key, value in dashboard_summary.items():\n",
    "    print(f\"  {key}: {value}\")\n"
   ]
  },
  {
   "cell_type": "markdown",
   "id": "2ca2af8f",
   "metadata": {},
   "source": [
    "## 9. Model Packaging and Serialization for Deployment"
   ]
  },
  {
   "cell_type": "code",
   "execution_count": 22,
   "id": "46e4ed2b",
   "metadata": {
    "execution": {
     "iopub.execute_input": "2025-07-29T02:47:01.590338Z",
     "iopub.status.busy": "2025-07-29T02:47:01.590245Z",
     "iopub.status.idle": "2025-07-29T02:47:01.610738Z",
     "shell.execute_reply": "2025-07-29T02:47:01.610418Z"
    }
   },
   "outputs": [
    {
     "name": "stdout",
     "output_type": "stream",
     "text": [
      "=== MODEL PACKAGING FOR DEPLOYMENT ===\n",
      "Saving all models and supporting data as .pkl files...\n",
      "\n",
      "1. Saving trained SVD model...\n",
      "Saved: trained_svd_model.pkl\n",
      "\n",
      "2. Saving correlation matrix...\n",
      "Saved: correlation_matrix.pkl\n",
      "\n",
      "3. Saving rebate name mapping...\n",
      "Saved: rebate_name_mapping.pkl\n",
      "\n",
      "4. Saving city popularity data...\n",
      "Saved: city_popularity.pkl\n",
      "\n",
      "5. Saving site type popularity data...\n",
      "Saved: site_type_popularity.pkl\n",
      "\n",
      "6. Saving dashboard summary KPIs...\n",
      "Saved: dashboard_summary.pkl\n",
      "\n",
      "7. Saving supporting data...\n",
      "Saved: rebate_columns.pkl\n",
      "Saved: unique_cities.pkl\n",
      "Saved: unique_site_types.pkl\n",
      "\n",
      "8. Copying data files...\n",
      "Copied: cleaned_master_data.csv\n",
      "Copied: city_coordinates.csv\n",
      "\n",
      "=== DEPLOYMENT PACKAGING COMPLETE ===\n",
      "All required files saved to 'deployment_artifacts/' directory:\n",
      "  dashboard_summary.pkl (0.00 MB)\n",
      "  unique_site_types.pkl (0.00 MB)\n",
      "  correlation_matrix.pkl (0.00 MB)\n",
      "  site_type_popularity.pkl (0.00 MB)\n",
      "  city_coordinates.csv (0.00 MB)\n",
      "  rebate_columns.pkl (0.00 MB)\n",
      "  unique_cities.pkl (0.00 MB)\n",
      "  cleaned_master_data.csv (1.91 MB)\n",
      "  city_popularity.pkl (0.00 MB)\n",
      "  trained_svd_model.pkl (6.12 MB)\n",
      "  rebate_name_mapping.pkl (0.00 MB)\n",
      "\n",
      "Ready for FastAPI deployment!\n"
     ]
    }
   ],
   "source": [
    "\n",
    "# Package all models and data for deployment\n",
    "print(\"=== MODEL PACKAGING FOR DEPLOYMENT ===\")\n",
    "print(\"Saving all models and supporting data as .pkl files...\")\n",
    "\n",
    "# Create deployment directory\n",
    "os.makedirs('deployment_artifacts', exist_ok=True)\n",
    "\n",
    "# 1. Save trained SVD model\n",
    "print(\"\\n1. Saving trained SVD model...\")\n",
    "with open('deployment_artifacts/trained_svd_model.pkl', 'wb') as f:\n",
    "    pickle.dump(svd_model, f)\n",
    "print(\"Saved: trained_svd_model.pkl\")\n",
    "\n",
    "# 2. Save correlation matrix\n",
    "print(\"\\n2. Saving correlation matrix...\")\n",
    "with open('deployment_artifacts/correlation_matrix.pkl', 'wb') as f:\n",
    "    pickle.dump(correlation_matrix, f)\n",
    "print(\"Saved: correlation_matrix.pkl\")\n",
    "\n",
    "# 3. Save rebate name mapping\n",
    "print(\"\\n3. Saving rebate name mapping...\")\n",
    "with open('deployment_artifacts/rebate_name_mapping.pkl', 'wb') as f:\n",
    "    pickle.dump(rebate_name_map, f)\n",
    "print(\"Saved: rebate_name_mapping.pkl\")\n",
    "\n",
    "# 4. Save city popularity data\n",
    "print(\"\\n4. Saving city popularity data...\")\n",
    "with open('deployment_artifacts/city_popularity.pkl', 'wb') as f:\n",
    "    pickle.dump(city_popularity_df, f)\n",
    "print(\"Saved: city_popularity.pkl\")\n",
    "\n",
    "# 5. Save site type popularity data\n",
    "print(\"\\n5. Saving site type popularity data...\")\n",
    "with open('deployment_artifacts/site_type_popularity.pkl', 'wb') as f:\n",
    "    pickle.dump(site_type_popularity_df, f)\n",
    "print(\"Saved: site_type_popularity.pkl\")\n",
    "\n",
    "# 6. Save dashboard summary KPIs\n",
    "print(\"\\n6. Saving dashboard summary KPIs...\")\n",
    "with open('deployment_artifacts/dashboard_summary.pkl', 'wb') as f:\n",
    "    pickle.dump(dashboard_summary, f)\n",
    "print(\"Saved: dashboard_summary.pkl\")\n",
    "\n",
    "# 7. Save supporting data for API\n",
    "print(\"\\n7. Saving supporting data...\")\n",
    "# Save rebate columns list\n",
    "with open('deployment_artifacts/rebate_columns.pkl', 'wb') as f:\n",
    "    pickle.dump(rebate_columns, f)\n",
    "print(\"Saved: rebate_columns.pkl\")\n",
    "\n",
    "# Save unique cities and site types for filtering\n",
    "with open('deployment_artifacts/unique_cities.pkl', 'wb') as f:\n",
    "    pickle.dump(list(df_cleaned['City'].dropna().unique()), f)\n",
    "print(\"Saved: unique_cities.pkl\")\n",
    "\n",
    "with open('deployment_artifacts/unique_site_types.pkl', 'wb') as f:\n",
    "    pickle.dump(list(df_cleaned['Site Type'].dropna().unique()), f)\n",
    "print(\"Saved: unique_site_types.pkl\")\n",
    "\n",
    "# 8. Copy key data files to deployment directory\n",
    "print(\"\\n8. Copying data files...\")\n",
    "import shutil\n",
    "shutil.copy('cleaned_master_data.csv', 'deployment_artifacts/cleaned_master_data.csv')\n",
    "print(\"Copied: cleaned_master_data.csv\")\n",
    "\n",
    "if os.path.exists('city_coordinates.csv'):\n",
    "    shutil.copy('city_coordinates.csv', 'deployment_artifacts/city_coordinates.csv')\n",
    "    print(\"Copied: city_coordinates.csv\")\n",
    "\n",
    "print(\"\\n=== DEPLOYMENT PACKAGING COMPLETE ===\")\n",
    "print(\"All required files saved to 'deployment_artifacts/' directory:\")\n",
    "for file in os.listdir('deployment_artifacts'):\n",
    "    file_path = os.path.join('deployment_artifacts', file)\n",
    "    size_mb = os.path.getsize(file_path) / (1024 * 1024)\n",
    "    print(f\"  {file} ({size_mb:.2f} MB)\")\n",
    "\n",
    "print(\"\\nReady for FastAPI deployment!\")\n"
   ]
  }
 ],
 "metadata": {
  "language_info": {
   "codemirror_mode": {
    "name": "ipython",
    "version": 3
   },
   "file_extension": ".py",
   "mimetype": "text/x-python",
   "name": "python",
   "nbconvert_exporter": "python",
   "pygments_lexer": "ipython3",
   "version": "3.11.13"
  }
 },
 "nbformat": 4,
 "nbformat_minor": 5
}
